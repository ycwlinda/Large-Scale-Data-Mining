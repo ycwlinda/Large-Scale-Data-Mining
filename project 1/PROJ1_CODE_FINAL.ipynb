{
 "cells": [
  {
   "cell_type": "code",
   "execution_count": 70,
   "metadata": {
    "collapsed": true
   },
   "outputs": [],
   "source": [
    "# First import all the packages we need\n",
    "import numpy as np\n",
    "import matplotlib.pyplot as plt\n",
    "from sklearn.datasets import fetch_20newsgroups\n",
    "\n",
    "from sklearn.feature_extraction import text\n",
    "from sklearn.feature_extraction.text import CountVectorizer\n",
    "\n",
    "from sklearn.feature_extraction.text import TfidfTransformer\n",
    "import string\n",
    "import nltk\n",
    "from nltk.stem.snowball import SnowballStemmer\n",
    "from nltk import word_tokenize \n",
    "\n",
    "from sklearn.decomposition import NMF\n",
    "from sklearn.decomposition import TruncatedSVD\n",
    "from sklearn.svm import SVC\n",
    "from sklearn.pipeline import Pipeline\n",
    "from sklearn.metrics import confusion_matrix, accuracy_score, precision_score, recall_score, roc_curve, auc\n",
    "from sklearn.model_selection import cross_val_score\n",
    "from sklearn import metrics\n",
    "\n",
    "\n",
    "from sklearn.naive_bayes import MultinomialNB\n",
    "from sklearn.linear_model import LogisticRegression\n",
    "from sklearn.naive_bayes import GaussianNB\n",
    "from sklearn.multiclass import OneVsOneClassifier\n",
    "from sklearn.svm import LinearSVC\n",
    "from sklearn.multiclass import OneVsRestClassifier\n"
   ]
  },
  {
   "cell_type": "markdown",
   "metadata": {},
   "source": [
    "# Question a"
   ]
  },
  {
   "cell_type": "code",
   "execution_count": 9,
   "metadata": {},
   "outputs": [
    {
     "name": "stdout",
     "output_type": "stream",
     "text": [
      "(comp.graphics, 584)\n",
      "(comp.os.ms-windows.misc, 591)\n",
      "(comp.sys.ibm.pc.hardware, 590)\n",
      "(comp.sys.mac.hardware, 578)\n",
      "(rec.autos, 594)\n",
      "(rec.motorcycles, 598)\n",
      "(rec.sport.baseball, 597)\n",
      "(rec.sport.hockey, 600)\n",
      "('Computer Technology ', 2343.0)\n",
      "('Recreational Activity', 2389.0)\n"
     ]
    },
    {
     "data": {
      "image/png": "[encoded data removed]",
      "text/plain": [
       "<matplotlib.figure.Figure at 0x1a0fb486d0>"
      ]
     },
     "metadata": {},
     "output_type": "display_data"
    }
   ],
   "source": [
    "categories = ['comp.graphics', 'comp.os.ms-windows.misc', 'comp.sys.ibm.pc.hardware', 'comp.sys.mac.hardware', 'rec.autos', 'rec.motorcycles', 'rec.sport.baseball', 'rec.sport.hockey']\n",
    "train = fetch_20newsgroups(subset='train', categories=categories, remove=('headers','footers','quotes'), shuffle=True, random_state=42)\n",
    "\n",
    "doc = np.zeros(8)\n",
    "category_index = train.target\n",
    "for index in category_index:\n",
    "    doc[index] += 1\n",
    "for index in range(8):\n",
    "    print (\"(%s, %d)\"%(categories[index],doc[index]))\n",
    "doc0=doc[0]+doc[1]+doc[2]+doc[3]\n",
    "doc1=doc[4]+doc[5]+doc[6]+doc[7]\n",
    "print (\"Computer Technology \" , doc0)\n",
    "print (\"Recreational Activity\" , doc1)\n",
    "\n",
    "plt.hist(train.target, 15)\n",
    "plt.title(\"The number of training documents per class\")\n",
    "x= np.arange(8)\n",
    "plt.xticks(x,categories,rotation=90, fontsize=10)\n",
    "plt.show()"
   ]
  },
  {
   "cell_type": "markdown",
   "metadata": {},
   "source": [
    "# Question b"
   ]
  },
  {
   "cell_type": "code",
   "execution_count": 10,
   "metadata": {
    "collapsed": true
   },
   "outputs": [],
   "source": [
    "categories = ['comp.graphics', 'comp.os.ms-windows.misc', 'comp.sys.ibm.pc.hardware', 'comp.sys.mac.hardware', 'rec.autos', 'rec.motorcycles', 'rec.sport.baseball', 'rec.sport.hockey']\n",
    "train = fetch_20newsgroups(subset='train', categories=categories, remove=('headers','footers','quotes'), shuffle=True, random_state=42)"
   ]
  },
  {
   "cell_type": "code",
   "execution_count": 11,
   "metadata": {
    "collapsed": true
   },
   "outputs": [],
   "source": [
    "stopwords = text.ENGLISH_STOP_WORDS\n",
    "stemmer = SnowballStemmer(\"english\")\n",
    "EXTRA = '[! \\\" # $ % \\& \\' \\( \\) \\* + , \\- \\. \\/ : ; < = > ? @ \\[ \\\\ \\] ^ _ ` { \\| } ~]'\n",
    "\n",
    "# pre-processing part\n",
    "train.data = [s.replace('\\r',' ').replace('\\n',' ').replace('\\t',' ') for s in train.data]\n",
    "for punctuation in EXTRA:\n",
    "    train.data = [s.replace(punctuation, ' ') for s in train.data]\n",
    "train.data = [' '.join([stemmer.stem(word) for word in sentence.split(' ')]) for sentence in train.data]\n"
   ]
  },
  {
   "cell_type": "code",
   "execution_count": 12,
   "metadata": {},
   "outputs": [
    {
     "name": "stdout",
     "output_type": "stream",
     "text": [
      "when min_df=5 \n",
      "('extracted term number:', 6910)\n",
      "(4732, 6910)\n",
      "(4732, 6910)\n"
     ]
    }
   ],
   "source": [
    "count_vect = CountVectorizer(min_df=5, stop_words=stopwords)\n",
    "train_counts = count_vect.fit_transform(train.data)\n",
    "print \"when min_df=5 \"\n",
    "print(\"extracted term number:\", len(count_vect.get_feature_names()))\n",
    "print(train_counts.shape)\n",
    "\n",
    "tfidf_transform=TfidfTransformer()\n",
    "train_tfidf=tfidf_transform.fit_transform(train_counts)\n",
    "print(train_tfidf.shape)"
   ]
  },
  {
   "cell_type": "code",
   "execution_count": 13,
   "metadata": {},
   "outputs": [
    {
     "name": "stdout",
     "output_type": "stream",
     "text": [
      "when min_df=2 \n",
      "('extracted term number:', 16449)\n",
      "(4732, 16449)\n",
      "(4732, 16449)\n"
     ]
    }
   ],
   "source": [
    "count_vect = CountVectorizer(min_df=2, stop_words=stopwords)\n",
    "train_counts = count_vect.fit_transform(train.data)\n",
    "print \"when min_df=2 \"\n",
    "print(\"extracted term number:\", len(count_vect.get_feature_names()))\n",
    "print(train_counts.shape)\n",
    "tfidf_transform=TfidfTransformer()\n",
    "train_tfidf=tfidf_transform.fit_transform(train_counts)\n",
    "print(train_tfidf.shape)"
   ]
  },
  {
   "cell_type": "markdown",
   "metadata": {},
   "source": [
    "# Question c"
   ]
  },
  {
   "cell_type": "code",
   "execution_count": 14,
   "metadata": {},
   "outputs": [
    {
     "name": "stdout",
     "output_type": "stream",
     "text": [
      "('extracted term number:', 107274)\n",
      "(20, 107274)\n",
      "(20, 107274)\n"
     ]
    }
   ],
   "source": [
    "#from sklearn.feature_extraction.text import TfidfVectorizer\n",
    "all_train = fetch_20newsgroups(subset='train', shuffle=True, random_state=42)\n",
    "\n",
    "data_by_class = []\n",
    "for i in range(20):\n",
    "    data_by_class.append(\"\")\n",
    "for i in range(len(all_train.data)):\n",
    "    category = all_train.target[i]\n",
    "    data_by_class[category] = data_by_class[category] + \" \" + all_train.data[i]\n",
    "\n",
    "# replace the \\r \\n \\t as space for excluding them\n",
    "data_by_class = [s.replace('\\r',' ').replace('\\n',' ').replace('\\t',' ') for s in data_by_class]\n",
    "# exclude the punctuations\n",
    "for punctuation in EXTRA:\n",
    "    data_by_class = [s.replace(punctuation, ' ') for s in data_by_class]\n",
    "# stemming\n",
    "data_by_class = [' '.join([stemmer.stem(word) for word in sentence.split(' ')]) for sentence in data_by_class]\n",
    "\n",
    "count_vect = CountVectorizer(stop_words=stopwords)\n",
    "data_by_class_counts = count_vect.fit_transform(data_by_class)\n",
    "print(\"extracted term number:\", len(count_vect.get_feature_names()))\n",
    "print(data_by_class_counts.shape)\n",
    "\n",
    "tfidf_transform=TfidfTransformer()\n",
    "data_by_class_tfidf=tfidf_transform.fit_transform(data_by_class_counts)\n",
    "print(data_by_class_tfidf.shape)\n"
   ]
  },
  {
   "cell_type": "code",
   "execution_count": 15,
   "metadata": {
    "collapsed": true
   },
   "outputs": [],
   "source": [
    "def get_top_words(class_index):\n",
    "    cur_class = data_by_class_tfidf.toarray()[class_index]\n",
    "    top_ten_index = sorted(range(len(cur_class)), key=lambda index: cur_class[index])[-10:]\n",
    "    top_tem_term = []\n",
    "    for index in top_ten_index:\n",
    "        top_tem_term.append(count_vect.get_feature_names()[index])\n",
    "    return top_tem_term"
   ]
  },
  {
   "cell_type": "code",
   "execution_count": 16,
   "metadata": {
    "collapsed": true
   },
   "outputs": [],
   "source": [
    "class_names = all_train.target_names\n",
    "ibm = class_names.index('comp.sys.ibm.pc.hardware')\n",
    "mac = class_names.index('comp.sys.mac.hardware')\n",
    "misc = class_names.index('misc.forsale')\n",
    "christian = class_names.index('soc.religion.christian')\n"
   ]
  },
  {
   "cell_type": "code",
   "execution_count": 17,
   "metadata": {},
   "outputs": [
    {
     "name": "stdout",
     "output_type": "stream",
     "text": [
      "top ten terms for comp.sys.ibm.pc.hardware\n",
      "[u'card', u'organ', u'subject', u'com', u'line', u'use', u'ide', u'edu', u'drive', u'scsi']\n"
     ]
    }
   ],
   "source": [
    "top_ten = get_top_words(ibm)\n",
    "print \"top ten terms for comp.sys.ibm.pc.hardware\"\n",
    "print (top_ten)"
   ]
  },
  {
   "cell_type": "code",
   "execution_count": 18,
   "metadata": {},
   "outputs": [
    {
     "name": "stdout",
     "output_type": "stream",
     "text": [
      "top ten terms for comp.sys.mac.hardware \n",
      "[u'scsi', u'simm', u'appl', u'use', u'quadra', u'organ', u'subject', u'line', u'mac', u'edu']\n"
     ]
    }
   ],
   "source": [
    "top_ten = get_top_words(mac)\n",
    "print \"top ten terms for comp.sys.mac.hardware \"\n",
    "print (top_ten)"
   ]
  },
  {
   "cell_type": "code",
   "execution_count": 19,
   "metadata": {},
   "outputs": [
    {
     "name": "stdout",
     "output_type": "stream",
     "text": [
      "top ten terms for misc.forsale \n",
      "[u'com', u'univers', u'new', u'post', u'organ', u'subject', u'sale', u'line', u'00', u'edu']\n"
     ]
    }
   ],
   "source": [
    "top_ten = get_top_words(misc)\n",
    "print \"top ten terms for misc.forsale \"\n",
    "print (top_ten)"
   ]
  },
  {
   "cell_type": "code",
   "execution_count": 20,
   "metadata": {},
   "outputs": [
    {
     "name": "stdout",
     "output_type": "stream",
     "text": [
      "top ten terms for soc.religion.christian \n",
      "[u'believ', u'say', u'line', u'peopl', u'subject', u'church', u'jesus', u'edu', u'christian', u'god']\n"
     ]
    }
   ],
   "source": [
    "top_ten = get_top_words(christian)\n",
    "print \"top ten terms for soc.religion.christian \"\n",
    "print (top_ten)"
   ]
  },
  {
   "cell_type": "markdown",
   "metadata": {},
   "source": [
    "# Question d"
   ]
  },
  {
   "cell_type": "code",
   "execution_count": 21,
   "metadata": {
    "collapsed": true
   },
   "outputs": [],
   "source": [
    "categories = ['comp.graphics', 'comp.os.ms-windows.misc', 'comp.sys.ibm.pc.hardware', 'comp.sys.mac.hardware', 'rec.autos', 'rec.motorcycles', 'rec.sport.baseball', 'rec.sport.hockey']\n",
    "train = fetch_20newsgroups(subset='train', categories=categories, remove=('headers','footers','quotes'), shuffle=True, random_state=42)\n",
    "\n",
    "stopwords = text.ENGLISH_STOP_WORDS\n",
    "stemmer = SnowballStemmer(\"english\")\n",
    "EXTRA = '[! \\\" # $ % \\& \\' \\( \\) \\* + , \\- \\. \\/ : ; < = > ? @ \\[ \\\\ \\] ^ _ ` { \\| } ~]'\n",
    "\n",
    "# pre-processing part\n",
    "train.data = [s.replace('\\r',' ').replace('\\n',' ').replace('\\t',' ') for s in train.data]\n",
    "for punctuation in EXTRA:\n",
    "    train.data = [s.replace(punctuation, ' ') for s in train.data]\n",
    "train.data = [' '.join([stemmer.stem(word) for word in sentence.split(' ')]) for sentence in train.data]"
   ]
  },
  {
   "cell_type": "code",
   "execution_count": 22,
   "metadata": {},
   "outputs": [
    {
     "name": "stdout",
     "output_type": "stream",
     "text": [
      " when min_df=2 \n",
      "(4732, 16449)\n"
     ]
    }
   ],
   "source": [
    "# min_df=2\n",
    "count_vect = CountVectorizer(min_df=2, stop_words=stopwords)\n",
    "train_counts = count_vect.fit_transform(train.data)\n",
    "\n",
    "tfidf_transform=TfidfTransformer()\n",
    "train_tfidf=tfidf_transform.fit_transform(train_counts)\n",
    "print\" when min_df=2 \"\n",
    "print(train_tfidf.shape)"
   ]
  },
  {
   "cell_type": "code",
   "execution_count": 23,
   "metadata": {},
   "outputs": [
    {
     "name": "stdout",
     "output_type": "stream",
     "text": [
      " when min_df=5 \n",
      "(4732, 6910)\n"
     ]
    }
   ],
   "source": [
    "# min_df=5\n",
    "count_vect = CountVectorizer(min_df=5, stop_words=stopwords)\n",
    "train_counts = count_vect.fit_transform(train.data)\n",
    "\n",
    "tfidf_transform=TfidfTransformer()\n",
    "train_tfidf=tfidf_transform.fit_transform(train_counts)\n",
    "print\" when min_df=5 \"\n",
    "print(train_tfidf.shape)"
   ]
  },
  {
   "cell_type": "code",
   "execution_count": 24,
   "metadata": {},
   "outputs": [
    {
     "name": "stdout",
     "output_type": "stream",
     "text": [
      "applying lsi, train_svd.shape =  (4732, 50)\n"
     ]
    }
   ],
   "source": [
    "svd = TruncatedSVD(n_components=50, n_iter=10,random_state=42,algorithm='arpack')\n",
    "train_svd = svd.fit_transform(train_tfidf)\n",
    "print \"applying lsi, train_svd.shape = \", train_svd.shape"
   ]
  },
  {
   "cell_type": "code",
   "execution_count": 25,
   "metadata": {},
   "outputs": [
    {
     "name": "stdout",
     "output_type": "stream",
     "text": [
      "applying nmf, train_nmf.shape =  (4732, 50)\n"
     ]
    }
   ],
   "source": [
    "nmf = NMF(n_components=50, init='random', random_state=42)\n",
    "train_nmf = nmf.fit_transform(train_tfidf)\n",
    "print \"applying nmf, train_nmf.shape = \", train_nmf.shape"
   ]
  },
  {
   "cell_type": "markdown",
   "metadata": {},
   "source": [
    "# Question e"
   ]
  },
  {
   "cell_type": "code",
   "execution_count": 26,
   "metadata": {
    "collapsed": true
   },
   "outputs": [],
   "source": [
    "from sklearn.svm import SVC\n",
    "from sklearn.pipeline import Pipeline\n",
    "from sklearn.metrics import confusion_matrix, accuracy_score, precision_score, recall_score, roc_curve, auc"
   ]
  },
  {
   "cell_type": "code",
   "execution_count": 27,
   "metadata": {
    "collapsed": true
   },
   "outputs": [],
   "source": [
    "categories = ['comp.graphics', 'comp.os.ms-windows.misc', 'comp.sys.ibm.pc.hardware', 'comp.sys.mac.hardware', 'rec.autos', 'rec.motorcycles', 'rec.sport.baseball', 'rec.sport.hockey']\n",
    "train = fetch_20newsgroups(subset='train', categories=categories, shuffle=True, random_state=42)\n",
    "test = fetch_20newsgroups(subset='test', categories=categories, shuffle=True, random_state=42)"
   ]
  },
  {
   "cell_type": "code",
   "execution_count": 28,
   "metadata": {
    "collapsed": true
   },
   "outputs": [],
   "source": [
    "#divide the train.target to 2 classes\n",
    "for i in range(len(train.target)):\n",
    "    if train.target[i] >= 0 and train.target[i] <= 3:\n",
    "        train.target[i] = 0\n",
    "    else:\n",
    "        train.target[i] = 1\n",
    "#divide the test.target to 2 classes\n",
    "for i in range(len(test.target)):\n",
    "    if test.target[i] >= 0 and test.target[i] <= 3:\n",
    "        test.target[i] = 0\n",
    "    else:\n",
    "        test.target[i] = 1"
   ]
  },
  {
   "cell_type": "code",
   "execution_count": 29,
   "metadata": {
    "collapsed": true
   },
   "outputs": [],
   "source": [
    "#pre-processing part\n",
    "stopwords = text.ENGLISH_STOP_WORDS\n",
    "stemmer = SnowballStemmer(\"english\")\n",
    "EXTRA = '[! \\\" # $ % \\& \\' \\( \\) \\* + , \\- \\. \\/ : ; < = > ? @ \\[ \\\\ \\] ^ _ ` { \\| } ~]'\n",
    "\n",
    "# pre-processing for train.data\n",
    "train.data = [s.replace('\\r',' ').replace('\\n',' ').replace('\\t',' ') for s in train.data]\n",
    "\n",
    "for punctuation in EXTRA:\n",
    "    train.data = [s.replace(punctuation, ' ') for s in train.data]\n",
    "\n",
    "train.data = [' '.join([stemmer.stem(word) for word in sentence.split(' ')]) for sentence in train.data]\n",
    "\n",
    "###########################\n",
    "# pre-processing for test.data\n",
    "\n",
    "test.data = [s.replace('\\r',' ').replace('\\n',' ').replace('\\t',' ') for s in test.data]\n",
    "\n",
    "for punctuation in EXTRA:\n",
    "    test.data = [s.replace(punctuation, ' ') for s in test.data]\n",
    "\n",
    "test.data = [' '.join([stemmer.stem(word) for word in sentence.split(' ')]) for sentence in test.data]\n",
    "\n"
   ]
  },
  {
   "cell_type": "code",
   "execution_count": 30,
   "metadata": {},
   "outputs": [
    {
     "data": {
      "image/png": "[encoded data removed]",
      "text/plain": [
       "<matplotlib.figure.Figure at 0x1a1203fc10>"
      ]
     },
     "metadata": {},
     "output_type": "display_data"
    },
    {
     "name": "stdout",
     "output_type": "stream",
     "text": [
      "Result for Hard Margin SVC using LSI / min_df=2\n",
      "confusion_matrix: \n",
      "[[1506   54]\n",
      " [  31 1559]]\n",
      "accuracy = 0.973016, precision = 0.966522, recall＝ 0.980503\n"
     ]
    }
   ],
   "source": [
    "# hard svc / LSI /  min_df=2\n",
    "hard_svc_clf = Pipeline([('vect', CountVectorizer(min_df=2, stop_words=text.ENGLISH_STOP_WORDS)),\n",
    "                         ('tfidf', TfidfTransformer()),\n",
    "                         ('svd', TruncatedSVD(n_components=50, n_iter=10,random_state=42)),\n",
    "                         ('clf', SVC(C = 1000, kernel='linear', probability=True)),\n",
    "])\n",
    "\n",
    "hard_svc_clf = hard_svc_clf.fit(train.data, train.target)\n",
    "predicted_prob = hard_svc_clf.predict_proba(test.data)[:, 1]\n",
    "predicted = hard_svc_clf.predict(test.data)\n",
    "\n",
    "\n",
    "fpr, tpr, thresholds = roc_curve(test.target, predicted_prob)\n",
    "auroc = auc(fpr, tpr)\n",
    "plt.plot(fpr, tpr, label='ROC curve (auroc = %0.2f)' % auroc)\n",
    "plt.plot([0, 1], [0, 1], 'k--')\n",
    "plt.xlabel('FPR')\n",
    "plt.ylabel('TPR')\n",
    "plt.title('ROC Curve for Hard Margin SVC / LSI / min_df=2')\n",
    "plt.legend(loc=\"lower right\")\n",
    "plt.show()\n",
    "\n",
    "\n",
    "cm = confusion_matrix(test.target, predicted)\n",
    "accuracy = accuracy_score(test.target, predicted)\n",
    "precision = precision_score(test.target, predicted, pos_label = 1)\n",
    "recall = recall_score(test.target, predicted, pos_label = 1)\n",
    "print(\"Result for Hard Margin SVC using LSI / min_df=2\")\n",
    "print(\"confusion_matrix: \")\n",
    "print(cm)\n",
    "print(\"accuracy = %f, precision = %f, recall＝ %f\" %(accuracy, precision, recall))"
   ]
  },
  {
   "cell_type": "code",
   "execution_count": 31,
   "metadata": {},
   "outputs": [
    {
     "data": {
      "image/png": "[encoded data removed]",
      "text/plain": [
       "<matplotlib.figure.Figure at 0x1a11a7ffd0>"
      ]
     },
     "metadata": {},
     "output_type": "display_data"
    },
    {
     "name": "stdout",
     "output_type": "stream",
     "text": [
      "Result for Soft Margin SVC using LSI / min_df=2\n",
      "confusion_matrix: \n",
      "[[   0 1560]\n",
      " [   0 1590]]\n",
      "accuracy = 0.504762, precision = 0.504762, recall＝ 1.000000\n"
     ]
    }
   ],
   "source": [
    "# soft svc / LSI /  min_df=2\n",
    "soft_svc_clf = Pipeline([('vect', CountVectorizer(min_df=2, stop_words=text.ENGLISH_STOP_WORDS)),\n",
    "                         ('tfidf', TfidfTransformer()),\n",
    "                         ('svd', TruncatedSVD(n_components=50, n_iter=10,random_state=42)),\n",
    "                         ('clf', SVC(C = 0.001, kernel='rbf', probability=True)),\n",
    "])\n",
    "soft_svc_clf = soft_svc_clf.fit(train.data, train.target)\n",
    "predicted_prob = soft_svc_clf.predict_proba(test.data)[:, 1]\n",
    "predicted = soft_svc_clf.predict(test.data)\n",
    "\n",
    "fpr, tpr, thresholds = roc_curve(test.target, predicted_prob)\n",
    "auroc = auc(fpr, tpr)\n",
    "plt.plot(fpr, tpr, label='ROC curve (auroc = %0.2f)' % auroc)\n",
    "plt.plot([0, 1], [0, 1], 'k--')\n",
    "plt.xlabel('FPR')\n",
    "plt.ylabel('TPR')\n",
    "plt.title('ROC Curve for Soft Margin SVC / LSI / min_df=2')\n",
    "plt.legend(loc=\"lower right\")\n",
    "plt.show()\n",
    "\n",
    "\n",
    "cm = confusion_matrix(test.target, predicted)\n",
    "accuracy = accuracy_score(test.target, predicted)\n",
    "precision = precision_score(test.target, predicted, pos_label = 1)\n",
    "recall = recall_score(test.target, predicted, pos_label = 1)\n",
    "print(\"Result for Soft Margin SVC using LSI / min_df=2\")\n",
    "print(\"confusion_matrix: \")\n",
    "print(cm)\n",
    "print(\"accuracy = %f, precision = %f, recall＝ %f\" %(accuracy, precision, recall))\n"
   ]
  },
  {
   "cell_type": "code",
   "execution_count": 32,
   "metadata": {},
   "outputs": [
    {
     "data": {
      "image/png": "[encoded data removed]",
      "text/plain": [
       "<matplotlib.figure.Figure at 0x1a11eb3d50>"
      ]
     },
     "metadata": {},
     "output_type": "display_data"
    },
    {
     "name": "stdout",
     "output_type": "stream",
     "text": [
      "Result for Hard Margin SVC using LSI / min_df=5\n",
      "confusion_matrix: \n",
      "[[1509   51]\n",
      " [  32 1558]]\n",
      "accuracy = 0.973651, precision = 0.968303, recall＝ 0.979874\n"
     ]
    }
   ],
   "source": [
    "# hard svc / LSI /  min_df=5\n",
    "hard_svc_clf = Pipeline([('vect', CountVectorizer(min_df=5, stop_words=text.ENGLISH_STOP_WORDS)),\n",
    "                         ('tfidf', TfidfTransformer()),\n",
    "                         ('svd', TruncatedSVD(n_components=50, n_iter=10,random_state=42)),\n",
    "                         ('clf', SVC(C = 1000, kernel='linear', probability=True)),\n",
    "])\n",
    "\n",
    "hard_svc_clf = hard_svc_clf.fit(train.data, train.target)\n",
    "predicted_prob = hard_svc_clf.predict_proba(test.data)[:, 1]\n",
    "predicted = hard_svc_clf.predict(test.data)\n",
    "\n",
    "\n",
    "fpr, tpr, thresholds = roc_curve(test.target, predicted_prob)\n",
    "auroc = auc(fpr, tpr)\n",
    "plt.plot(fpr, tpr, label='ROC curve (auroc = %0.2f)' % auroc)\n",
    "plt.plot([0, 1], [0, 1], 'k--')\n",
    "plt.xlabel('FPR')\n",
    "plt.ylabel('TPR')\n",
    "plt.title('ROC Curve for Hard Margin SVC / LSI /min_df=5')\n",
    "plt.legend(loc=\"lower right\")\n",
    "plt.show()\n",
    "\n",
    "cm = confusion_matrix(test.target, predicted)\n",
    "accuracy = accuracy_score(test.target, predicted)\n",
    "precision = precision_score(test.target, predicted, pos_label = 1)\n",
    "recall = recall_score(test.target, predicted, pos_label = 1)\n",
    "print(\"Result for Hard Margin SVC using LSI / min_df=5\")\n",
    "print(\"confusion_matrix: \")\n",
    "print(cm)\n",
    "print(\"accuracy = %f, precision = %f, recall＝ %f\" %(accuracy, precision, recall))"
   ]
  },
  {
   "cell_type": "code",
   "execution_count": 33,
   "metadata": {},
   "outputs": [
    {
     "data": {
      "image/png": "[encoded data removed]",
      "text/plain": [
       "<matplotlib.figure.Figure at 0x1a10d4d410>"
      ]
     },
     "metadata": {},
     "output_type": "display_data"
    },
    {
     "name": "stdout",
     "output_type": "stream",
     "text": [
      "Result for Soft Margin SVC using LSI / min_df=5\n",
      "confusion_matrix: \n",
      "[[   0 1560]\n",
      " [   0 1590]]\n",
      "accuracy = 0.504762, precision = 0.504762, recall＝ 1.000000\n"
     ]
    }
   ],
   "source": [
    "# soft svc / LSI /  min_df=5\n",
    "soft_svc_clf = Pipeline([('vect', CountVectorizer(min_df=5, stop_words=text.ENGLISH_STOP_WORDS)),\n",
    "                         ('tfidf', TfidfTransformer()),\n",
    "                         ('svd', TruncatedSVD(n_components=50, n_iter=10,random_state=42)),\n",
    "                         ('clf', SVC(C = 0.001, kernel='rbf', probability=True)),\n",
    "])\n",
    "soft_svc_clf = soft_svc_clf.fit(train.data, train.target)\n",
    "predicted_prob = soft_svc_clf.predict_proba(test.data)[:, 1]\n",
    "predicted = soft_svc_clf.predict(test.data)\n",
    "\n",
    "fpr, tpr, thresholds = roc_curve(test.target, predicted_prob)\n",
    "auroc = auc(fpr, tpr)\n",
    "plt.plot(fpr, tpr, label='ROC curve (auroc = %0.2f)' % auroc)\n",
    "plt.plot([0, 1], [0, 1], 'k--')\n",
    "plt.xlabel('FPR')\n",
    "plt.ylabel('TPR')\n",
    "plt.title('ROC Curve for Soft Margin SVC / LSI / min_df=5')\n",
    "plt.legend(loc=\"lower right\")\n",
    "plt.show()\n",
    "\n",
    "cm = confusion_matrix(test.target, predicted)\n",
    "accuracy = accuracy_score(test.target, predicted)\n",
    "precision = precision_score(test.target, predicted, pos_label = 1)\n",
    "recall = recall_score(test.target, predicted, pos_label = 1)\n",
    "print(\"Result for Soft Margin SVC using LSI / min_df=5\")\n",
    "print(\"confusion_matrix: \")\n",
    "print(cm)\n",
    "print(\"accuracy = %f, precision = %f, recall＝ %f\" %(accuracy, precision, recall))"
   ]
  },
  {
   "cell_type": "code",
   "execution_count": 34,
   "metadata": {},
   "outputs": [
    {
     "data": {
      "image/png": "[encoded data removed]",
      "text/plain": [
       "<matplotlib.figure.Figure at 0x1a11eb3690>"
      ]
     },
     "metadata": {},
     "output_type": "display_data"
    },
    {
     "name": "stdout",
     "output_type": "stream",
     "text": [
      "Result for Hard Margin SVC using NMF / min_df=2\n",
      "confusion_matrix: \n",
      "[[1493   67]\n",
      " [  46 1544]]\n",
      "accuracy = 0.964127, precision = 0.958411, recall＝ 0.971069\n"
     ]
    }
   ],
   "source": [
    "# hard svc / NMF/  min_df=2\n",
    "hard_svc_clf = Pipeline([('vect', CountVectorizer(min_df=2, stop_words=text.ENGLISH_STOP_WORDS)),\n",
    "                         ('tfidf', TfidfTransformer()),\n",
    "                         ('nmf', NMF(n_components=50, init='random', random_state=42)),\n",
    "                         ('clf', SVC(C = 1000, kernel='linear', probability=True)),\n",
    "])\n",
    "\n",
    "hard_svc_clf = hard_svc_clf.fit(train.data, train.target)\n",
    "predicted_prob = hard_svc_clf.predict_proba(test.data)[:, 1]\n",
    "predicted = hard_svc_clf.predict(test.data)\n",
    "fpr, tpr, thresholds = roc_curve(test.target, predicted_prob)\n",
    "auroc = auc(fpr, tpr)\n",
    "plt.plot(fpr, tpr, label='ROC curve (auroc = %0.2f)' % auroc)\n",
    "plt.plot([0, 1], [0, 1], 'k--')\n",
    "plt.xlabel('FPR')\n",
    "plt.ylabel('TPR')\n",
    "plt.title('ROC Curve for Hard Margin SVC / NMF /min_df=2')\n",
    "plt.legend(loc=\"lower right\")\n",
    "plt.show()\n",
    "\n",
    "cm = confusion_matrix(test.target, predicted)\n",
    "accuracy = accuracy_score(test.target, predicted)\n",
    "precision = precision_score(test.target, predicted, pos_label = 1)\n",
    "recall = recall_score(test.target, predicted, pos_label = 1)\n",
    "print(\"Result for Hard Margin SVC using NMF / min_df=2\")\n",
    "print(\"confusion_matrix: \")\n",
    "print(cm)\n",
    "print(\"accuracy = %f, precision = %f, recall＝ %f\" %(accuracy, precision, recall))"
   ]
  },
  {
   "cell_type": "code",
   "execution_count": 35,
   "metadata": {},
   "outputs": [
    {
     "data": {
      "image/png": "[encoded data removed]",
      "text/plain": [
       "<matplotlib.figure.Figure at 0x1a0fabea10>"
      ]
     },
     "metadata": {},
     "output_type": "display_data"
    },
    {
     "name": "stdout",
     "output_type": "stream",
     "text": [
      "Result for Soft Margin SVC using NMF / min_df=2\n",
      "confusion_matrix: \n",
      "[[   0 1560]\n",
      " [   0 1590]]\n",
      "accuracy = 0.504762, precision = 0.504762, recall＝ 1.000000\n"
     ]
    }
   ],
   "source": [
    "# soft svc / NMF/  min_df=2\n",
    "soft_svc_clf = Pipeline([('vect', CountVectorizer(min_df=2, stop_words=text.ENGLISH_STOP_WORDS)),\n",
    "                         ('tfidf', TfidfTransformer()),\n",
    "                         ('nmf', NMF(n_components=50, init='random', random_state=42)),\n",
    "                         ('clf', SVC(C = 0.001, kernel='rbf', probability=True)),\n",
    "])\n",
    "soft_svc_clf = soft_svc_clf.fit(train.data, train.target)\n",
    "predicted_prob = soft_svc_clf.predict_proba(test.data)[:, 1]\n",
    "predicted = soft_svc_clf.predict(test.data)\n",
    "\n",
    "fpr, tpr, thresholds = roc_curve(test.target, predicted_prob)\n",
    "auroc = auc(fpr, tpr)\n",
    "plt.plot(fpr, tpr, label='ROC curve (auroc = %0.2f)' % auroc)\n",
    "plt.plot([0, 1], [0, 1], 'k--')\n",
    "plt.xlabel('FPR')\n",
    "plt.ylabel('TPR')\n",
    "plt.title('ROC Curve for Soft Margin SVC / NMF / min_df=2')\n",
    "plt.legend(loc=\"lower right\")\n",
    "plt.show()\n",
    "\n",
    "cm = confusion_matrix(test.target, predicted)\n",
    "accuracy = accuracy_score(test.target, predicted)\n",
    "precision = precision_score(test.target, predicted, pos_label = 1)\n",
    "recall = recall_score(test.target, predicted, pos_label = 1)\n",
    "print(\"Result for Soft Margin SVC using NMF / min_df=2\")\n",
    "print(\"confusion_matrix: \")\n",
    "print(cm)\n",
    "print(\"accuracy = %f, precision = %f, recall＝ %f\" %(accuracy, precision, recall))\n"
   ]
  },
  {
   "cell_type": "markdown",
   "metadata": {},
   "source": [
    "# Question f"
   ]
  },
  {
   "cell_type": "code",
   "execution_count": 36,
   "metadata": {
    "collapsed": true
   },
   "outputs": [],
   "source": [
    "from sklearn.model_selection import cross_val_score"
   ]
  },
  {
   "cell_type": "code",
   "execution_count": 37,
   "metadata": {
    "collapsed": true
   },
   "outputs": [],
   "source": [
    "categories = ['comp.graphics', 'comp.os.ms-windows.misc', 'comp.sys.ibm.pc.hardware', 'comp.sys.mac.hardware', 'rec.autos', 'rec.motorcycles', 'rec.sport.baseball', 'rec.sport.hockey']\n",
    "train = fetch_20newsgroups(subset='train', categories=categories, shuffle=True, random_state=42)\n",
    "test = fetch_20newsgroups(subset='test', categories=categories, shuffle=True, random_state=42)"
   ]
  },
  {
   "cell_type": "code",
   "execution_count": 38,
   "metadata": {
    "collapsed": true
   },
   "outputs": [],
   "source": [
    "#divide the train.target to 2 classes\n",
    "for i in range(len(train.target)):\n",
    "    if train.target[i] >= 0 and train.target[i] <= 3:\n",
    "        train.target[i] = 0\n",
    "    else:\n",
    "        train.target[i] = 1\n",
    "#divide the test.target to 2 classes\n",
    "for i in range(len(test.target)):\n",
    "    if test.target[i] >= 0 and test.target[i] <= 3:\n",
    "        test.target[i] = 0\n",
    "    else:\n",
    "        test.target[i] = 1"
   ]
  },
  {
   "cell_type": "code",
   "execution_count": 39,
   "metadata": {
    "collapsed": true
   },
   "outputs": [],
   "source": [
    "stopwords = text.ENGLISH_STOP_WORDS\n",
    "stemmer = SnowballStemmer(\"english\")\n",
    "EXTRA = '[! \\\" # $ % \\& \\' \\( \\) \\* + , \\- \\. \\/ : ; < = > ? @ \\[ \\\\ \\] ^ _ ` { \\| } ~]'\n",
    "\n",
    "# replace the \\r \\n \\t as space for excluding them\n",
    "train.data = [s.replace('\\r',' ').replace('\\n',' ').replace('\\t',' ') for s in train.data]\n",
    "\n",
    "# exclude the punctuations\n",
    "for punctuation in EXTRA:\n",
    "    train.data = [s.replace(punctuation, ' ') for s in train.data]\n",
    "\n",
    "# stemming\n",
    "train.data = [' '.join([stemmer.stem(word) for word in sentence.split(' ')]) for sentence in train.data]\n",
    "\n",
    "###########################\n",
    "# replace the \\r \\n \\t as space for excluding them\n",
    "test.data = [s.replace('\\r',' ').replace('\\n',' ').replace('\\t',' ') for s in test.data]\n",
    "\n",
    "# exclude the punctuations\n",
    "for punctuation in EXTRA:\n",
    "    test.data = [s.replace(punctuation, ' ') for s in test.data]\n",
    "\n",
    "# stemming\n",
    "test.data = [' '.join([stemmer.stem(word) for word in sentence.split(' ')]) for sentence in test.data]\n",
    "\n"
   ]
  },
  {
   "cell_type": "code",
   "execution_count": 40,
   "metadata": {},
   "outputs": [
    {
     "name": "stdout",
     "output_type": "stream",
     "text": [
      "-----using LSI/ min_df=2------\n",
      "C value = 0.001, ave_score = 0.504761904762\n",
      "accuracy = 0.504762, precision = 0.504762, recall＝ 1.000000\n",
      "C value = 0.01, ave_score = 0.504761904762\n",
      "accuracy = 0.504762, precision = 0.504762, recall＝ 1.000000\n",
      "C value = 0.1, ave_score = 0.504761904762\n",
      "accuracy = 0.504762, precision = 0.504762, recall＝ 1.000000\n",
      "C value = 1, ave_score = 0.939682539683\n",
      "accuracy = 0.958730, precision = 0.932464, recall＝ 0.989937\n",
      "C value = 10, ave_score = 0.973333333333\n",
      "accuracy = 0.966984, precision = 0.956388, recall＝ 0.979245\n",
      "C value = 100, ave_score = 0.977777777778\n",
      "accuracy = 0.973968, precision = 0.966007, recall＝ 0.983019\n",
      "C value = 1000, ave_score = 0.983492063492\n",
      "accuracy = 0.973016, precision = 0.967101, recall＝ 0.979874\n"
     ]
    }
   ],
   "source": [
    "c = [0.001,0.01,0.1,1,10,100,1000]\n",
    "\n",
    "print \"-----using LSI/ min_df=2------\"\n",
    "for c_value in c:\n",
    "    svc_clf = Pipeline([('vect', CountVectorizer(min_df=2, stop_words=text.ENGLISH_STOP_WORDS)),\n",
    "                         ('tfidf', TfidfTransformer()),\n",
    "                         ('svd', TruncatedSVD(n_components=50, n_iter=10,random_state=42)),\n",
    "                         ('clf', SVC(C=c_value , kernel='rbf', probability=True)),\n",
    "])\n",
    "    svc_clf = svc_clf.fit(train.data, train.target)\n",
    "    #dicted_prob = svc_clf.predict_proba(test.data)[:, 1]\n",
    "    \n",
    "    sm_scores = cross_val_score(svc_clf, test.data, test.target, cv=5)\n",
    "    ave_score = np.mean(sm_scores)\n",
    "    predicted = svc_clf.predict(test.data)\n",
    "    \n",
    "    print \"C value = {}, ave_score = {}\".format(c_value,ave_score)\n",
    "    #cm = confusion_matrix(test.target, predicted)\n",
    "    accuracy = accuracy_score(test.target, predicted)\n",
    "    precision = precision_score(test.target, predicted, pos_label = 1)\n",
    "    recall = recall_score(test.target, predicted, pos_label = 1)\n",
    "    print(\"accuracy = %f, precision = %f, recall＝ %f\" %(accuracy, precision, recall))\n"
   ]
  },
  {
   "cell_type": "code",
   "execution_count": 41,
   "metadata": {},
   "outputs": [
    {
     "name": "stdout",
     "output_type": "stream",
     "text": [
      "-----using NMF/ min_df=2------\n",
      "C value = 0.001, ave_score = 0.504761904762\n",
      "accuracy = 0.504762, precision = 0.504762, recall＝ 1.000000\n",
      "C value = 0.01, ave_score = 0.504761904762\n",
      "accuracy = 0.504762, precision = 0.504762, recall＝ 1.000000\n",
      "C value = 0.1, ave_score = 0.504761904762\n",
      "accuracy = 0.504762, precision = 0.504762, recall＝ 1.000000\n",
      "C value = 1, ave_score = 0.504761904762\n",
      "accuracy = 0.504762, precision = 0.504762, recall＝ 1.000000\n",
      "C value = 10, ave_score = 0.716825396825\n",
      "accuracy = 0.930794, precision = 0.922414, recall＝ 0.942138\n",
      "C value = 100, ave_score = 0.958095238095\n",
      "accuracy = 0.946984, precision = 0.928873, recall＝ 0.969182\n",
      "C value = 1000, ave_score = 0.965079365079\n",
      "accuracy = 0.959365, precision = 0.950123, recall＝ 0.970440\n"
     ]
    }
   ],
   "source": [
    "c = [0.001,0.01,0.1,1,10,100,1000]\n",
    "\n",
    "print \"-----using NMF/ min_df=2------\"\n",
    "for c_value in c:\n",
    "    svc_clf = Pipeline([('vect', CountVectorizer(min_df=2, stop_words=text.ENGLISH_STOP_WORDS)),\n",
    "                         ('tfidf', TfidfTransformer()),\n",
    "                         ('nmf', NMF(n_components=50, init='random', random_state=42)),\n",
    "                         ('clf', SVC(C=c_value , kernel='rbf', probability=True)),\n",
    "])\n",
    "    svc_clf = svc_clf.fit(train.data, train.target)\n",
    "    #dicted_prob = svc_clf.predict_proba(test.data)[:, 1]\n",
    "    \n",
    "    sm_scores = cross_val_score(svc_clf, test.data, test.target, cv=5)\n",
    "    ave_score = np.mean(sm_scores)\n",
    "    predicted = svc_clf.predict(test.data)\n",
    "    \n",
    "    print \"C value = {}, ave_score = {}\".format(c_value,ave_score)\n",
    "    #cm = confusion_matrix(test.target, predicted)\n",
    "    accuracy = accuracy_score(test.target, predicted)\n",
    "    precision = precision_score(test.target, predicted, pos_label = 1)\n",
    "    recall = recall_score(test.target, predicted, pos_label = 1)\n",
    "    print(\"accuracy = %f, precision = %f, recall＝ %f\" %(accuracy, precision, recall))\n",
    "\n"
   ]
  },
  {
   "cell_type": "code",
   "execution_count": 42,
   "metadata": {},
   "outputs": [
    {
     "name": "stdout",
     "output_type": "stream",
     "text": [
      "------using LSI/ min_df=5------\n",
      "C value = 0.001, ave_score = 0.504761904762\n",
      "accuracy = 0.504762, precision = 0.504762, recall＝ 1.000000\n",
      "C value = 0.01, ave_score = 0.504761904762\n",
      "accuracy = 0.504762, precision = 0.504762, recall＝ 1.000000\n",
      "C value = 0.1, ave_score = 0.504761904762\n",
      "accuracy = 0.504762, precision = 0.504762, recall＝ 1.000000\n",
      "C value = 1, ave_score = 0.952063492063\n",
      "accuracy = 0.955873, precision = 0.928024, recall＝ 0.989308\n",
      "C value = 10, ave_score = 0.973333333333\n",
      "accuracy = 0.970159, precision = 0.957772, recall＝ 0.984277\n",
      "C value = 100, ave_score = 0.97873015873\n",
      "accuracy = 0.974603, precision = 0.966625, recall＝ 0.983648\n",
      "C value = 1000, ave_score = 0.982222222222\n",
      "accuracy = 0.973651, precision = 0.968886, recall＝ 0.979245\n"
     ]
    }
   ],
   "source": [
    "c = [0.001,0.01,0.1,1,10,100,1000]\n",
    "\n",
    "print \"------using LSI/ min_df=5------\"\n",
    "for c_value in c:\n",
    "    svc_clf = Pipeline([('vect', CountVectorizer(min_df=5, stop_words=text.ENGLISH_STOP_WORDS)),\n",
    "                         ('tfidf', TfidfTransformer()),\n",
    "                         ('svd', TruncatedSVD(n_components=50, n_iter=10,random_state=42)),\n",
    "                         ('clf', SVC(C=c_value , kernel='rbf', probability=True)),\n",
    "])\n",
    "    svc_clf = svc_clf.fit(train.data, train.target)\n",
    "    #dicted_prob = svc_clf.predict_proba(test.data)[:, 1]\n",
    "    \n",
    "    sm_scores = cross_val_score(svc_clf, test.data, test.target, cv=5)\n",
    "    ave_score = np.mean(sm_scores)\n",
    "    predicted = svc_clf.predict(test.data)\n",
    "    \n",
    "    print \"C value = {}, ave_score = {}\".format(c_value,ave_score)\n",
    "    #cm = confusion_matrix(test.target, predicted)\n",
    "    accuracy = accuracy_score(test.target, predicted)\n",
    "    precision = precision_score(test.target, predicted, pos_label = 1)\n",
    "    recall = recall_score(test.target, predicted, pos_label = 1)\n",
    "    print(\"accuracy = %f, precision = %f, recall＝ %f\" %(accuracy, precision, recall))\n",
    "\n"
   ]
  },
  {
   "cell_type": "code",
   "execution_count": 43,
   "metadata": {},
   "outputs": [
    {
     "name": "stdout",
     "output_type": "stream",
     "text": [
      "Based on the result we use C = 1000 as the best value below; shown with LSI and min_df=2\n",
      "\n",
      "Accuracy: 0.973015873016\n",
      "\n",
      "Classification report:\n",
      "             precision    recall  f1-score   support\n",
      "\n",
      "       comp       0.98      0.97      0.97      1560\n",
      "        rec       0.97      0.98      0.97      1590\n",
      "\n",
      "avg / total       0.97      0.97      0.97      3150\n",
      "\n",
      "\n",
      "Confusion matrix:\n",
      "[[1507   53]\n",
      " [  32 1558]]\n",
      "\n"
     ]
    }
   ],
   "source": [
    "from sklearn import metrics\n",
    "#based on the result use C = 1000 as the best value below:\n",
    "svc_clf = Pipeline([('vect', CountVectorizer(min_df=2, stop_words=text.ENGLISH_STOP_WORDS)),\n",
    "                         ('tfidf', TfidfTransformer()),\n",
    "                         ('svd', TruncatedSVD(n_components=50, n_iter=10,random_state=42)),\n",
    "                         ('clf', SVC(C=1000 , kernel='rbf', probability=True)),\n",
    "])\n",
    "svc_clf = svc_clf.fit(train.data, train.target)\n",
    "#dicted_prob = svc_clf.predict_proba(test.data)[:, 1]\n",
    "predicted = svc_clf.predict(test.data)\n",
    "\n",
    "target_names = ['comp', 'rec']\n",
    "print \"Based on the result we use C = 1000 as the best value below; shown with LSI and min_df=2\"\n",
    "print \"\"\n",
    "print \"Accuracy: {}\".format(np.mean(predicted == test.target))\n",
    "print \"\"\n",
    "print \"Classification report:\"\n",
    "print metrics.classification_report(test.target, predicted, target_names=target_names)\n",
    "print \"\"\n",
    "print \"Confusion matrix:\"\n",
    "print metrics.confusion_matrix(test.target, predicted)\n",
    "print \"\""
   ]
  },
  {
   "cell_type": "markdown",
   "metadata": {
    "collapsed": true
   },
   "source": [
    "# Question g"
   ]
  },
  {
   "cell_type": "code",
   "execution_count": 44,
   "metadata": {},
   "outputs": [
    {
     "data": {
      "image/png": "[encoded data removed]",
      "text/plain": [
       "<matplotlib.figure.Figure at 0x10aaa13d0>"
      ]
     },
     "metadata": {},
     "output_type": "display_data"
    }
   ],
   "source": [
    "#part g\n",
    "import numpy as np\n",
    "import matplotlib.pyplot as plt\n",
    "from sklearn.datasets import fetch_20newsgroups\n",
    "from sklearn.naive_bayes import MultinomialNB\n",
    "from sklearn.pipeline import Pipeline\n",
    "from sklearn.feature_extraction.text import CountVectorizer\n",
    "from sklearn.feature_extraction.text import TfidfTransformer\n",
    "import string\n",
    "from sklearn.metrics import confusion_matrix, accuracy_score, precision_score, recall_score, roc_curve, auc\n",
    "from sklearn.feature_extraction import text\n",
    "import nltk\n",
    "from nltk.stem.snowball import SnowballStemmer\n",
    "from sklearn.decomposition import NMF\n",
    "\n",
    "\n",
    "categories = ['comp.graphics', 'comp.os.ms-windows.misc', 'comp.sys.ibm.pc.hardware', 'comp.sys.mac.hardware', 'rec.autos', 'rec.motorcycles', 'rec.sport.baseball', 'rec.sport.hockey']\n",
    "train = fetch_20newsgroups(subset='train', categories=categories, shuffle=True, random_state=42)\n",
    "test = fetch_20newsgroups(subset='test', categories=categories, shuffle=True, random_state=42)\n",
    "\n",
    "#divide the train.target to 2 classes\n",
    "for i in range(len(train.target)):\n",
    "    if train.target[i] >= 0 and train.target[i] <= 3:\n",
    "        train.target[i] = 0\n",
    "    else:\n",
    "        train.target[i] = 1\n",
    "#divide the test.target to 2 classes\n",
    "for i in range(len(test.target)):\n",
    "    if test.target[i] >= 0 and test.target[i] <= 3:\n",
    "        test.target[i] = 0\n",
    "    else:\n",
    "        test.target[i] = 1\n",
    "       \n",
    " ##preprocessing\n",
    "stopwords = text.ENGLISH_STOP_WORDS\n",
    "stemmer = SnowballStemmer(\"english\")\n",
    "EXTRA = '[! \\\" # $ % \\& \\' \\( \\) \\* + , \\- \\. \\/ : ; < = > ? @ \\[ \\\\ \\] ^ _ ` { \\| } ~]'\n",
    "\n",
    "#train.data preprocessing\n",
    "# replace the \\r \\n \\t as space for excluding them\n",
    "train.data = [s.replace('\\r',' ').replace('\\n',' ').replace('\\t',' ') for s in train.data]\n",
    "\n",
    "# exclude the punctuations\n",
    "for punctuation in EXTRA:\n",
    "    train.data = [s.replace(punctuation, ' ') for s in train.data]\n",
    "\n",
    "# stemming\n",
    "train.data = [' '.join([stemmer.stem(word) for word in sentence.split(' ')]) for sentence in train.data]\n",
    "\n",
    "###########################\n",
    "#test.data preprocessing\n",
    "# replace the \\r \\n \\t as space for excluding them\n",
    "test.data = [s.replace('\\r',' ').replace('\\n',' ').replace('\\t',' ') for s in test.data]\n",
    "\n",
    "# exclude the punctuations\n",
    "for punctuation in EXTRA:\n",
    "    test.data = [s.replace(punctuation, ' ') for s in test.data]\n",
    "\n",
    "# stemming\n",
    "test.data = [' '.join([stemmer.stem(word) for word in sentence.split(' ')]) for sentence in test.data]\n",
    "#print (\"cell1-finish\")\n",
    "nb=MultinomialNB()\n",
    "nb.class_prior_=[0.1,0.9]\n",
    "pipeline1=Pipeline([('vect',CountVectorizer(min_df=2, stop_words='english')),('tfidf',TfidfTransformer()),\n",
    "                    ('reduce_dim',NMF(n_components=50,init='random',random_state=0)),('clf',nb),])\n",
    "\n",
    "mnb_clf=pipeline1.fit(train.data,train.target)\n",
    "mnb_predicted_prob=pipeline1.predict_proba(test.data)[:,1]\n",
    "mnb_predicted=pipeline1.predict(test.data)\n",
    "\n",
    "fpr, tpr, thresholds = roc_curve(test.target,mnb_predicted_prob)\n",
    "auroc = auc(fpr, tpr)\n",
    "plt.plot(fpr, tpr, label='ROC curve (auroc = %0.2f)' % auroc)\n",
    "plt.plot([0, 1], [0, 1], 'k--')\n",
    "plt.xlabel('FPR')\n",
    "plt.ylabel('TPR')\n",
    "plt.title('ROC Curve for MultinomialNB / NMF/ min_df=2')\n",
    "plt.legend(loc=\"lower right\")\n",
    "plt.show()\n"
   ]
  },
  {
   "cell_type": "code",
   "execution_count": 45,
   "metadata": {},
   "outputs": [
    {
     "name": "stdout",
     "output_type": "stream",
     "text": [
      "Result for MultinomialNB using NMF / min_df=2\n",
      "confusion_matrix: \n",
      "[[1400  160]\n",
      " [  35 1555]]\n",
      "accuracy = 0.938095, precision = 0.906706, recall＝ 0.977987\n"
     ]
    }
   ],
   "source": [
    "cm = confusion_matrix(test.target, mnb_predicted)\n",
    "accuracy = accuracy_score(test.target, mnb_predicted)\n",
    "precision = precision_score(test.target, mnb_predicted, pos_label = 1)\n",
    "recall = recall_score(test.target, mnb_predicted, pos_label = 1)\n",
    "print(\"Result for MultinomialNB using NMF / min_df=2\")\n",
    "print(\"confusion_matrix: \")\n",
    "print(cm)\n",
    "print(\"accuracy = %f, precision = %f, recall＝ %f\" %(accuracy, precision, recall))\n",
    "\n"
   ]
  },
  {
   "cell_type": "markdown",
   "metadata": {},
   "source": [
    "# Question h"
   ]
  },
  {
   "cell_type": "code",
   "execution_count": 71,
   "metadata": {
    "collapsed": true
   },
   "outputs": [],
   "source": [
    "\n",
    "categories = ['comp.graphics', 'comp.os.ms-windows.misc', 'comp.sys.ibm.pc.hardware', 'comp.sys.mac.hardware', 'rec.autos', 'rec.motorcycles', 'rec.sport.baseball', 'rec.sport.hockey']\n",
    "train = fetch_20newsgroups(subset='train', categories=categories, shuffle=True, random_state=42)\n",
    "test = fetch_20newsgroups(subset='test', categories=categories, shuffle=True, random_state=42)\n",
    "\n",
    "#divide the train.target to 2 classes\n",
    "for i in range(len(train.target)):\n",
    "    if train.target[i] >= 0 and train.target[i] <= 3:\n",
    "        train.target[i] = 0\n",
    "    else:\n",
    "        train.target[i] = 1\n",
    "#divide the test.target to 2 classes\n",
    "for i in range(len(test.target)):\n",
    "    if test.target[i] >= 0 and test.target[i] <= 3:\n",
    "        test.target[i] = 0\n",
    "    else:\n",
    "        test.target[i] = 1\n",
    "       \n",
    " ##preprocessing\n",
    "stopwords = text.ENGLISH_STOP_WORDS\n",
    "stemmer = SnowballStemmer(\"english\")\n",
    "EXTRA = '[! \\\" # $ % \\& \\' \\( \\) \\* + , \\- \\. \\/ : ; < = > ? @ \\[ \\\\ \\] ^ _ ` { \\| } ~]'\n",
    "\n",
    "#train.data preprocessing\n",
    "# replace the \\r \\n \\t as space for excluding them\n",
    "train.data = [s.replace('\\r',' ').replace('\\n',' ').replace('\\t',' ') for s in train.data]\n",
    "\n",
    "# exclude the punctuations\n",
    "for punctuation in EXTRA:\n",
    "    train.data = [s.replace(punctuation, ' ') for s in train.data]\n",
    "\n",
    "# stemming\n",
    "train.data = [' '.join([stemmer.stem(word) for word in sentence.split(' ')]) for sentence in train.data]\n",
    "\n",
    "###########################\n",
    "#test.data preprocessing\n",
    "# replace the \\r \\n \\t as space for excluding them\n",
    "test.data = [s.replace('\\r',' ').replace('\\n',' ').replace('\\t',' ') for s in test.data]\n",
    "\n",
    "# exclude the punctuations\n",
    "for punctuation in EXTRA:\n",
    "    test.data = [s.replace(punctuation, ' ') for s in test.data]\n",
    "\n",
    "# stemming\n",
    "test.data = [' '.join([stemmer.stem(word) for word in sentence.split(' ')]) for sentence in test.data]\n",
    "#print (\"cell1-finish\")"
   ]
  },
  {
   "cell_type": "code",
   "execution_count": 72,
   "metadata": {},
   "outputs": [
    {
     "data": {
      "image/png": "[encoded data removed]",
      "text/plain": [
       "<matplotlib.figure.Figure at 0x1a144d42d0>"
      ]
     },
     "metadata": {},
     "output_type": "display_data"
    },
    {
     "name": "stdout",
     "output_type": "stream",
     "text": [
      "Result for Logistic Regression LSI/min_df=2\n",
      "confusion_matrix: \n",
      "[[1492   68]\n",
      " [  35 1555]]\n",
      "accuracy = 0.967302, precision = 0.958102, recall＝ 0.977987\n"
     ]
    }
   ],
   "source": [
    "\n",
    "#logical regression LSI case min_df=2\n",
    "from sklearn.linear_model import LogisticRegression\n",
    "from sklearn.decomposition import TruncatedSVD\n",
    "logreg=LogisticRegression()\n",
    "\n",
    "pipeline2=Pipeline([('vect',CountVectorizer(min_df=2, stop_words='english')),\n",
    "                    ('tfidf',TfidfTransformer()),\n",
    "                    ('svd',TruncatedSVD(n_components=50, n_iter=10,random_state=42)),\n",
    "                    ('clf',logreg),]) \n",
    "\n",
    "logreg_clf=pipeline2.fit(train.data,train.target)\n",
    "logreg_predicted_prob=pipeline2.predict_proba(test.data)[:,1]\n",
    "logreg_predicted=pipeline2.predict(test.data)\n",
    "\n",
    "fpr, tpr, thresholds = roc_curve(test.target,logreg_predicted_prob)\n",
    "auroc = auc(fpr, tpr)\n",
    "plt.plot(fpr, tpr, label='ROC curve (auroc = %0.2f)' % auroc)\n",
    "plt.plot([0, 1], [0, 1], 'k--')\n",
    "plt.xlabel('FPR')\n",
    "plt.ylabel('TPR')\n",
    "plt.title('ROC Curve for Logistic Regression LSI/ min_df=2')\n",
    "plt.legend(loc=\"lower right\")\n",
    "plt.show()\n",
    "\n",
    "cm = confusion_matrix(test.target, logreg_predicted)\n",
    "accuracy = accuracy_score(test.target, logreg_predicted)\n",
    "precision = precision_score(test.target, logreg_predicted, pos_label = 1)\n",
    "recall = recall_score(test.target, logreg_predicted, pos_label = 1)\n",
    "print(\"Result for Logistic Regression LSI/min_df=2\")\n",
    "print(\"confusion_matrix: \")\n",
    "print(cm)\n",
    "print(\"accuracy = %f, precision = %f, recall＝ %f\" %(accuracy, precision, recall))\n",
    "\n",
    "\n"
   ]
  },
  {
   "cell_type": "code",
   "execution_count": 47,
   "metadata": {},
   "outputs": [
    {
     "data": {
      "image/png": "[encoded data removed]",
      "text/plain": [
       "<matplotlib.figure.Figure at 0x1a15d3e7d0>"
      ]
     },
     "metadata": {},
     "output_type": "display_data"
    },
    {
     "name": "stdout",
     "output_type": "stream",
     "text": [
      "Result for Logistic Regression LSI /min_df=5\n",
      "confusion_matrix: \n",
      "[[1492   68]\n",
      " [  30 1560]]\n",
      "accuracy = 0.968889, precision = 0.958231, recall＝ 0.981132\n"
     ]
    }
   ],
   "source": [
    "## #logical regression LSI case min_df= 5\n",
    "from sklearn.linear_model import LogisticRegression\n",
    "from sklearn.decomposition import TruncatedSVD\n",
    "logreg=LogisticRegression()\n",
    "\n",
    "pipeline2=Pipeline([('vect',CountVectorizer(min_df=5, stop_words='english')),\n",
    "                    ('tfidf',TfidfTransformer()),\n",
    "                    ('svd',TruncatedSVD(n_components=50, n_iter=10,random_state=42)),\n",
    "                    ('clf',logreg),]) #min_df=5\n",
    "\n",
    "logreg_clf=pipeline2.fit(train.data,train.target)\n",
    "logreg_predicted_prob=pipeline2.predict_proba(test.data)[:,1]\n",
    "logreg_predicted=pipeline2.predict(test.data)\n",
    "\n",
    "fpr, tpr, thresholds = roc_curve(test.target,logreg_predicted_prob)\n",
    "auroc = auc(fpr, tpr)\n",
    "plt.plot(fpr, tpr, label='ROC curve (auroc = %0.2f)' % auroc)\n",
    "plt.plot([0, 1], [0, 1], 'k--')\n",
    "plt.xlabel('FPR')\n",
    "plt.ylabel('TPR')\n",
    "plt.title('ROC Curve for Logistic Regression LSI/ min_df=5')\n",
    "plt.legend(loc=\"lower right\")\n",
    "plt.show()\n",
    "\n",
    "cm = confusion_matrix(test.target, logreg_predicted)\n",
    "accuracy = accuracy_score(test.target, logreg_predicted)\n",
    "precision = precision_score(test.target, logreg_predicted, pos_label = 1)\n",
    "recall = recall_score(test.target, logreg_predicted, pos_label = 1)\n",
    "print(\"Result for Logistic Regression LSI /min_df=5\")\n",
    "print(\"confusion_matrix: \")\n",
    "print(cm)\n",
    "print(\"accuracy = %f, precision = %f, recall＝ %f\" %(accuracy, precision, recall))\n",
    "\n",
    "\n"
   ]
  },
  {
   "cell_type": "code",
   "execution_count": 48,
   "metadata": {},
   "outputs": [
    {
     "data": {
      "image/png": "[encoded data removed]",
      "text/plain": [
       "<matplotlib.figure.Figure at 0x1a11eb3310>"
      ]
     },
     "metadata": {},
     "output_type": "display_data"
    },
    {
     "name": "stdout",
     "output_type": "stream",
     "text": [
      "Result for Logistic Regression / NMF / min_df=2\n",
      "confusion_matrix: \n",
      "[[1450  110]\n",
      " [  74 1516]]\n",
      "accuracy = 0.941587, precision = 0.932349, recall＝ 0.953459\n"
     ]
    }
   ],
   "source": [
    "#logical regression / NMF / min_df=2\n",
    "from sklearn.linear_model import LogisticRegression\n",
    "from sklearn.decomposition import TruncatedSVD\n",
    "logreg=LogisticRegression()\n",
    "\n",
    "pipeline2=Pipeline([('vect',CountVectorizer(min_df=2, stop_words='english')),('tfidf',TfidfTransformer()),\n",
    "                     ('reduce_dim',NMF(n_components=50,init='random',random_state=0)),('clf',logreg),]) #min_df=5\n",
    "\n",
    "logreg_clf=pipeline2.fit(train.data,train.target)\n",
    "logreg_predicted_prob=pipeline2.predict_proba(test.data)[:,1]\n",
    "logreg_predicted=pipeline2.predict(test.data)\n",
    "\n",
    "fpr, tpr, thresholds = roc_curve(test.target,logreg_predicted_prob)\n",
    "auroc = auc(fpr, tpr)\n",
    "plt.plot(fpr, tpr, label='ROC curve (auroc = %0.2f)' % auroc)\n",
    "plt.plot([0, 1], [0, 1], 'k--')\n",
    "plt.xlabel('FPR')\n",
    "plt.ylabel('TPR')\n",
    "plt.title('ROC Curve for Logistic Regression / NMF / min_df=2')\n",
    "plt.legend(loc=\"lower right\")\n",
    "plt.show()\n",
    "\n",
    "cm = confusion_matrix(test.target, logreg_predicted)\n",
    "accuracy = accuracy_score(test.target, logreg_predicted)\n",
    "precision = precision_score(test.target, logreg_predicted, pos_label = 1)\n",
    "recall = recall_score(test.target, logreg_predicted, pos_label = 1)\n",
    "print(\"Result for Logistic Regression / NMF / min_df=2\")\n",
    "print(\"confusion_matrix: \")\n",
    "print(cm)\n",
    "print(\"accuracy = %f, precision = %f, recall＝ %f\" %(accuracy, precision, recall))\n",
    "\n"
   ]
  },
  {
   "cell_type": "markdown",
   "metadata": {},
   "source": [
    "# Question i1"
   ]
  },
  {
   "cell_type": "code",
   "execution_count": null,
   "metadata": {
    "collapsed": true
   },
   "outputs": [],
   "source": [
    "\n",
    "categories = ['comp.graphics', 'comp.os.ms-windows.misc', 'comp.sys.ibm.pc.hardware', 'comp.sys.mac.hardware', 'rec.autos', 'rec.motorcycles', 'rec.sport.baseball', 'rec.sport.hockey']\n",
    "train = fetch_20newsgroups(subset='train', categories=categories, shuffle=True, random_state=42)\n",
    "test = fetch_20newsgroups(subset='test', categories=categories, shuffle=True, random_state=42)\n",
    "\n",
    "#divide the train.target to 2 classes\n",
    "for i in range(len(train.target)):\n",
    "    if train.target[i] >= 0 and train.target[i] <= 3:\n",
    "        train.target[i] = 0\n",
    "    else:\n",
    "        train.target[i] = 1\n",
    "#divide the test.target to 2 classes\n",
    "for i in range(len(test.target)):\n",
    "    if test.target[i] >= 0 and test.target[i] <= 3:\n",
    "        test.target[i] = 0\n",
    "    else:\n",
    "        test.target[i] = 1\n",
    "       \n",
    " ##preprocessing\n",
    "stopwords = text.ENGLISH_STOP_WORDS\n",
    "stemmer = SnowballStemmer(\"english\")\n",
    "EXTRA = '[! \\\" # $ % \\& \\' \\( \\) \\* + , \\- \\. \\/ : ; < = > ? @ \\[ \\\\ \\] ^ _ ` { \\| } ~]'\n",
    "\n",
    "#train.data preprocessing\n",
    "# replace the \\r \\n \\t as space for excluding them\n",
    "train.data = [s.replace('\\r',' ').replace('\\n',' ').replace('\\t',' ') for s in train.data]\n",
    "\n",
    "# exclude the punctuations\n",
    "for punctuation in EXTRA:\n",
    "    train.data = [s.replace(punctuation, ' ') for s in train.data]\n",
    "\n",
    "# stemming\n",
    "train.data = [' '.join([stemmer.stem(word) for word in sentence.split(' ')]) for sentence in train.data]\n",
    "\n",
    "###########################\n",
    "#test.data preprocessing\n",
    "# replace the \\r \\n \\t as space for excluding them\n",
    "test.data = [s.replace('\\r',' ').replace('\\n',' ').replace('\\t',' ') for s in test.data]\n",
    "\n",
    "# exclude the punctuations\n",
    "for punctuation in EXTRA:\n",
    "    test.data = [s.replace(punctuation, ' ') for s in test.data]\n",
    "\n",
    "# stemming\n",
    "test.data = [' '.join([stemmer.stem(word) for word in sentence.split(' ')]) for sentence in test.data]\n",
    "#print (\"cell1-finish\")"
   ]
  },
  {
   "cell_type": "code",
   "execution_count": 49,
   "metadata": {},
   "outputs": [
    {
     "data": {
      "image/png": "[encoded data removed]",
      "text/plain": [
       "<matplotlib.figure.Figure at 0x1a11a7fb90>"
      ]
     },
     "metadata": {},
     "output_type": "display_data"
    },
    {
     "name": "stdout",
     "output_type": "stream",
     "text": [
      "Result for logreg_l1 / LSI / min_df=2\n",
      "confusion_matrix: \n",
      "[[1495   65]\n",
      " [  33 1557]]\n",
      "accuracy = 0.968889, precision = 0.959926, recall＝ 0.953459\n"
     ]
    }
   ],
   "source": [
    "\n",
    "#l1 lsi / min_df=2\n",
    "from sklearn.linear_model import LogisticRegression\n",
    "from sklearn.decomposition import TruncatedSVD\n",
    "logreg_l1=LogisticRegression(penalty='l1',C=1,solver='liblinear')\n",
    "\n",
    "\n",
    "pipeline3_l1=Pipeline([('vect',CountVectorizer(min_df=2, stop_words='english')),('tfidf',TfidfTransformer()),\n",
    "                    ('svd',TruncatedSVD(n_components=50, n_iter=10,random_state=42)),('clf',logreg_l1),]) #change 2 to 5 for min_df=5\n",
    "\n",
    "logreg_l1_clf=pipeline3_l1.fit(train.data,train.target)\n",
    "logreg_l1_predicted_prob=pipeline3_l1.predict_proba(test.data)[:,1]\n",
    "logreg_l1_predicted=pipeline3_l1.predict(test.data)\n",
    "\n",
    "fpr, tpr, thresholds = roc_curve(test.target,logreg_l1_predicted_prob)\n",
    "auroc = auc(fpr, tpr)\n",
    "plt.plot(fpr, tpr, label='ROC curve (auroc = %0.2f)' % auroc)\n",
    "plt.plot([0, 1], [0, 1], 'k--')\n",
    "plt.xlabel('FPR')\n",
    "plt.ylabel('TPR')\n",
    "plt.title('ROC Curve for logistic regression l1 / LSI / min_df=2')\n",
    "plt.legend(loc=\"lower right\")\n",
    "plt.show()\n",
    "\n",
    "cm = confusion_matrix(test.target, logreg_l1_predicted)\n",
    "accuracy = accuracy_score(test.target, logreg_l1_predicted)\n",
    "precision = precision_score(test.target, logreg_l1_predicted, pos_label = 1)\n",
    "recall = recall_score(test.target, logreg_l1_predicted, pos_label = 1)\n",
    "print(\"Result for logreg_l1 / LSI / min_df=2\")\n",
    "print(\"confusion_matrix: \")\n",
    "print(cm)\n",
    "print(\"accuracy = %f, precision = %f, recall＝ %f\" %(accuracy, precision, recall))\n",
    "\n"
   ]
  },
  {
   "cell_type": "code",
   "execution_count": 50,
   "metadata": {},
   "outputs": [
    {
     "data": {
      "image/png": "[encoded data removed]",
      "text/plain": [
       "<matplotlib.figure.Figure at 0x1a11001690>"
      ]
     },
     "metadata": {},
     "output_type": "display_data"
    },
    {
     "name": "stdout",
     "output_type": "stream",
     "text": [
      "Result for logreg_l1 / LSI / min_df=5\n",
      "confusion_matrix: \n",
      "[[1495   65]\n",
      " [  33 1557]]\n",
      "accuracy = 0.968889, precision = 0.959926, recall＝ 0.953459\n"
     ]
    }
   ],
   "source": [
    "#l1 lsi / min_df=5\n",
    "from sklearn.linear_model import LogisticRegression\n",
    "from sklearn.decomposition import TruncatedSVD\n",
    "logreg_l1=LogisticRegression(penalty='l1',C=1,solver='liblinear')\n",
    "\n",
    "\n",
    "pipeline3_l1=Pipeline([('vect',CountVectorizer(min_df=5, stop_words='english')),('tfidf',TfidfTransformer()),\n",
    "                    ('svd',TruncatedSVD(n_components=50, n_iter=10,random_state=42)),('clf',logreg_l1),]) #change 2 to 5 for min_df=5\n",
    "\n",
    "logreg_l1_clf=pipeline3_l1.fit(train.data,train.target)\n",
    "logreg_l1_predicted_prob=pipeline3_l1.predict_proba(test.data)[:,1]\n",
    "logreg_l1_predicted=pipeline3_l1.predict(test.data)\n",
    "\n",
    "fpr, tpr, thresholds = roc_curve(test.target,logreg_l1_predicted_prob)\n",
    "auroc = auc(fpr, tpr)\n",
    "plt.plot(fpr, tpr, label='ROC curve (auroc = %0.2f)' % auroc)\n",
    "plt.plot([0, 1], [0, 1], 'k--')\n",
    "plt.xlabel('FPR')\n",
    "plt.ylabel('TPR')\n",
    "plt.title('ROC Curve for logistic regression l1 / LSI / min_df=5')\n",
    "plt.legend(loc=\"lower right\")\n",
    "plt.show()\n",
    "\n",
    "cm = confusion_matrix(test.target, logreg_l1_predicted)\n",
    "accuracy = accuracy_score(test.target, logreg_l1_predicted)\n",
    "precision = precision_score(test.target, logreg_l1_predicted, pos_label = 1)\n",
    "recall = recall_score(test.target, logreg_l1_predicted, pos_label = 1)\n",
    "print(\"Result for logreg_l1 / LSI / min_df=5\")\n",
    "print(\"confusion_matrix: \")\n",
    "print(cm)\n",
    "print(\"accuracy = %f, precision = %f, recall＝ %f\" %(accuracy, precision, recall))\n",
    "\n",
    "\n"
   ]
  },
  {
   "cell_type": "code",
   "execution_count": 51,
   "metadata": {},
   "outputs": [
    {
     "data": {
      "image/png": "[encoded data removed]",
      "text/plain": [
       "<matplotlib.figure.Figure at 0x1a10bc26d0>"
      ]
     },
     "metadata": {},
     "output_type": "display_data"
    },
    {
     "name": "stdout",
     "output_type": "stream",
     "text": [
      "Result for logreg_l2/ LSI / min_df=2\n",
      "confusion_matrix: \n",
      "[[1492   68]\n",
      " [  35 1555]]\n",
      "accuracy = 0.967302, precision = 0.958102, recall＝ 0.977987\n"
     ]
    }
   ],
   "source": [
    "#l2 lsi / min_df=2\n",
    "from sklearn.linear_model import LogisticRegression\n",
    "from sklearn.decomposition import TruncatedSVD\n",
    "\n",
    "logreg_l2=LogisticRegression(penalty='l2',C=1,solver='liblinear')\n",
    "\n",
    "pipeline3_l2=Pipeline([('vect',CountVectorizer(min_df=2, stop_words='english')),('tfidf',TfidfTransformer()),\n",
    "                    ('svd',TruncatedSVD(n_components=50, n_iter=10,random_state=42)),('clf',logreg_l2),]) #change 2 to 5 for min_df=5\n",
    "\n",
    "logreg_l2_clf=pipeline3_l2.fit(train.data,train.target)\n",
    "logreg_l2_predicted_prob=pipeline3_l2.predict_proba(test.data)[:,1]\n",
    "logreg_l2_predicted=pipeline3_l2.predict(test.data)\n",
    "\n",
    "fpr, tpr, thresholds = roc_curve(test.target,logreg_l2_predicted_prob)\n",
    "auroc = auc(fpr, tpr)\n",
    "plt.plot(fpr, tpr, label='ROC curve (auroc = %0.2f)' % auroc)\n",
    "plt.plot([0, 1], [0, 1], 'k--')\n",
    "plt.xlabel('FPR')\n",
    "plt.ylabel('TPR')\n",
    "plt.title('ROC Curve for logistic regression l2 / LSI / min_df=2')\n",
    "plt.legend(loc=\"lower right\")\n",
    "plt.show()\n",
    "\n",
    "cm = confusion_matrix(test.target, logreg_l2_predicted)\n",
    "accuracy = accuracy_score(test.target, logreg_l2_predicted)\n",
    "precision = precision_score(test.target, logreg_l2_predicted, pos_label = 1)\n",
    "recall = recall_score(test.target, logreg_l2_predicted, pos_label = 1)\n",
    "print(\"Result for logreg_l2/ LSI / min_df=2\")\n",
    "print(\"confusion_matrix: \")\n",
    "print(cm)\n",
    "print(\"accuracy = %f, precision = %f, recall＝ %f\" %(accuracy, precision, recall))\n",
    "\n"
   ]
  },
  {
   "cell_type": "code",
   "execution_count": 52,
   "metadata": {},
   "outputs": [
    {
     "data": {
      "image/png": "[encoded data removed]",
      "text/plain": [
       "<matplotlib.figure.Figure at 0x1a0fc94cd0>"
      ]
     },
     "metadata": {},
     "output_type": "display_data"
    },
    {
     "name": "stdout",
     "output_type": "stream",
     "text": [
      "Result for logreg_l2/ LSI / min_df=5\n",
      "confusion_matrix: \n",
      "[[1492   68]\n",
      " [  30 1560]]\n",
      "accuracy = 0.968889, precision = 0.958231, recall＝ 0.981132\n"
     ]
    }
   ],
   "source": [
    "#l2 lsi / min_df=5\n",
    "from sklearn.linear_model import LogisticRegression\n",
    "from sklearn.decomposition import TruncatedSVD\n",
    "\n",
    "logreg_l2=LogisticRegression(penalty='l2',C=1,solver='liblinear')\n",
    "\n",
    "pipeline3_l2=Pipeline([('vect',CountVectorizer(min_df=5, stop_words='english')),('tfidf',TfidfTransformer()),\n",
    "                    ('svd',TruncatedSVD(n_components=50, n_iter=10,random_state=42)),('clf',logreg_l2),]) #change 2 to 5 for min_df=5\n",
    "\n",
    "logreg_l2_clf=pipeline3_l2.fit(train.data,train.target)\n",
    "logreg_l2_predicted_prob=pipeline3_l2.predict_proba(test.data)[:,1]\n",
    "logreg_l2_predicted=pipeline3_l2.predict(test.data)\n",
    "\n",
    "fpr, tpr, thresholds = roc_curve(test.target,logreg_l2_predicted_prob)\n",
    "auroc = auc(fpr, tpr)\n",
    "plt.plot(fpr, tpr, label='ROC curve (auroc = %0.2f)' % auroc)\n",
    "plt.plot([0, 1], [0, 1], 'k--')\n",
    "plt.xlabel('FPR')\n",
    "plt.ylabel('TPR')\n",
    "plt.title('ROC Curve for logistic regression l2 / LSI / min_df=5')\n",
    "plt.legend(loc=\"lower right\")\n",
    "plt.show()\n",
    "\n",
    "cm = confusion_matrix(test.target, logreg_l2_predicted)\n",
    "accuracy = accuracy_score(test.target, logreg_l2_predicted)\n",
    "precision = precision_score(test.target, logreg_l2_predicted, pos_label = 1)\n",
    "recall = recall_score(test.target, logreg_l2_predicted, pos_label = 1)\n",
    "print(\"Result for logreg_l2/ LSI / min_df=5\")\n",
    "print(\"confusion_matrix: \")\n",
    "print(cm)\n",
    "print(\"accuracy = %f, precision = %f, recall＝ %f\" %(accuracy, precision, recall))\n",
    "\n",
    "\n"
   ]
  },
  {
   "cell_type": "code",
   "execution_count": 53,
   "metadata": {},
   "outputs": [
    {
     "data": {
      "image/png": "[encoded data removed]",
      "text/plain": [
       "<matplotlib.figure.Figure at 0x1a11001d10>"
      ]
     },
     "metadata": {},
     "output_type": "display_data"
    },
    {
     "name": "stdout",
     "output_type": "stream",
     "text": [
      "Result for logreg_l1 /NMF / min_df=2\n",
      "confusion_matrix: \n",
      "[[1485   75]\n",
      " [  55 1535]]\n",
      "accuracy = 0.958730, precision = 0.953416, recall＝ 0.953459\n"
     ]
    }
   ],
   "source": [
    "#NMF l1\n",
    "from sklearn.linear_model import LogisticRegression\n",
    "from sklearn.decomposition import TruncatedSVD\n",
    "logreg_l1=LogisticRegression(penalty='l1',C=1,solver='liblinear')\n",
    "\n",
    "\n",
    "pipeline3_l1=Pipeline([('vect',CountVectorizer(min_df=2, stop_words='english')),('tfidf',TfidfTransformer()),\n",
    "                   ('reduce_dim',NMF(n_components=50,init='random',random_state=0)) ,('clf',logreg_l1),])\n",
    "\n",
    "logreg_l1_clf=pipeline3_l1.fit(train.data,train.target)\n",
    "logreg_l1_predicted_prob=pipeline3_l1.predict_proba(test.data)[:,1]\n",
    "logreg_l1_predicted=pipeline3_l1.predict(test.data)\n",
    "\n",
    "fpr, tpr, thresholds = roc_curve(test.target,logreg_l1_predicted_prob)\n",
    "auroc = auc(fpr, tpr)\n",
    "plt.plot(fpr, tpr, label='ROC curve (auroc = %0.2f)' % auroc)\n",
    "plt.plot([0, 1], [0, 1], 'k--')\n",
    "plt.xlabel('FPR')\n",
    "plt.ylabel('TPR')\n",
    "plt.title('ROC Curve for logistic regression l1 /NMF / min_df=2')\n",
    "plt.legend(loc=\"lower right\")\n",
    "plt.show()\n",
    "\n",
    "cm = confusion_matrix(test.target, logreg_l1_predicted)\n",
    "accuracy = accuracy_score(test.target, logreg_l1_predicted)\n",
    "precision = precision_score(test.target, logreg_l1_predicted, pos_label = 1)\n",
    "recall = recall_score(test.target, logreg_l1_predicted, pos_label = 1)\n",
    "print(\"Result for logreg_l1 /NMF / min_df=2\")\n",
    "print(\"confusion_matrix: \")\n",
    "print(cm)\n",
    "print(\"accuracy = %f, precision = %f, recall＝ %f\" %(accuracy, precision, recall))\n",
    "\n"
   ]
  },
  {
   "cell_type": "code",
   "execution_count": 54,
   "metadata": {},
   "outputs": [
    {
     "data": {
      "image/png": "[encoded data removed]",
      "text/plain": [
       "<matplotlib.figure.Figure at 0x1a11001590>"
      ]
     },
     "metadata": {},
     "output_type": "display_data"
    },
    {
     "name": "stdout",
     "output_type": "stream",
     "text": [
      "Result for logreg_l2 /NMF / min_df=2\n",
      "confusion_matrix: \n",
      "[[1450  110]\n",
      " [  74 1516]]\n",
      "accuracy = 0.941587, precision = 0.932349, recall＝ 0.953459\n"
     ]
    }
   ],
   "source": [
    "#NMF l2\n",
    "from sklearn.linear_model import LogisticRegression\n",
    "from sklearn.decomposition import TruncatedSVD\n",
    "\n",
    "logreg_l2=LogisticRegression(penalty='l2',C=1,solver='liblinear')\n",
    "\n",
    "pipeline3_l2=Pipeline([('vect',CountVectorizer(min_df=2, stop_words='english')),('tfidf',TfidfTransformer()),\n",
    "                    ('reduce_dim',NMF(n_components=50,init='random',random_state=0)),('clf',logreg_l2),])\n",
    "\n",
    "logreg_l2_clf=pipeline3_l2.fit(train.data,train.target)\n",
    "logreg_l2_predicted_prob=pipeline3_l2.predict_proba(test.data)[:,1]\n",
    "logreg_l2_predicted=pipeline3_l2.predict(test.data)\n",
    "\n",
    "fpr, tpr, thresholds = roc_curve(test.target,logreg_l2_predicted_prob)\n",
    "auroc = auc(fpr, tpr)\n",
    "plt.plot(fpr, tpr, label='ROC curve (auroc = %0.2f)' % auroc)\n",
    "plt.plot([0, 1], [0, 1], 'k--')\n",
    "plt.xlabel('FPR')\n",
    "plt.ylabel('TPR')\n",
    "plt.title('ROC Curve for logistic regression l2 /NMF / min_df=2')\n",
    "plt.legend(loc=\"lower right\")\n",
    "plt.show()\n",
    "\n",
    "cm = confusion_matrix(test.target, logreg_l2_predicted)\n",
    "accuracy = accuracy_score(test.target, logreg_l2_predicted)\n",
    "precision = precision_score(test.target, logreg_l2_predicted, pos_label = 1)\n",
    "recall = recall_score(test.target, logreg_l2_predicted, pos_label = 1)\n",
    "print(\"Result for logreg_l2 /NMF / min_df=2\")\n",
    "print(\"confusion_matrix: \")\n",
    "print(cm)\n",
    "print(\"accuracy = %f, precision = %f, recall＝ %f\" %(accuracy, precision, recall))"
   ]
  },
  {
   "cell_type": "code",
   "execution_count": 55,
   "metadata": {},
   "outputs": [
    {
     "name": "stdout",
     "output_type": "stream",
     "text": [
      "Result for logreg_l1 /c=0.001\n",
      "confusion_matrix: \n",
      "[[1560    0]\n",
      " [1590    0]]\n",
      "accuracy = 0.495238, precision = 0.000000, recall＝ 0.000000\n",
      "Result for logreg_l1 /c=0.01\n",
      "confusion_matrix: \n",
      "[[1478   82]\n",
      " [ 238 1352]]\n",
      "accuracy = 0.898413, precision = 0.942817, recall＝ 0.850314\n",
      "Result for logreg_l1 /c=0.1\n",
      "confusion_matrix: \n",
      "[[1464   96]\n",
      " [  46 1544]]\n",
      "accuracy = 0.954921, precision = 0.941463, recall＝ 0.971069\n",
      "Result for logreg_l1 /c=1\n",
      "confusion_matrix: \n",
      "[[1495   65]\n",
      " [  33 1557]]\n",
      "accuracy = 0.968889, precision = 0.959926, recall＝ 0.979245\n",
      "Result for logreg_l1 /c=10\n",
      "confusion_matrix: \n",
      "[[1506   54]\n",
      " [  30 1560]]\n",
      "accuracy = 0.973333, precision = 0.966543, recall＝ 0.981132\n",
      "Result for logreg_l1 /c=100\n",
      "confusion_matrix: \n",
      "[[1510   50]\n",
      " [  32 1558]]\n",
      "accuracy = 0.973968, precision = 0.968905, recall＝ 0.979874\n",
      "Result for logreg_l1 /c=1000\n",
      "confusion_matrix: \n",
      "[[1510   50]\n",
      " [  32 1558]]\n",
      "accuracy = 0.973968, precision = 0.968905, recall＝ 0.979874\n"
     ]
    }
   ],
   "source": [
    "#test with differenct c value / L1\n",
    "\n",
    "\n",
    "from sklearn.linear_model import LogisticRegression\n",
    "from sklearn.decomposition import TruncatedSVD\n",
    "\n",
    "logreg_l1=LogisticRegression(penalty='l1',C=0.001,solver='liblinear')\n",
    "\n",
    "\n",
    "pipeline3_l1=Pipeline([('vect',CountVectorizer(min_df=2, stop_words='english')),('tfidf',TfidfTransformer()),\n",
    "                    ('svd',TruncatedSVD(n_components=50, n_iter=10,random_state=42)),('clf',logreg_l1),]) #change 2 to 5 for min_df=5\n",
    "\n",
    "logreg_l1_clf=pipeline3_l1.fit(train.data,train.target)\n",
    "logreg_l1_predicted_prob=pipeline3_l1.predict_proba(test.data)[:,1]\n",
    "logreg_l1_predicted=pipeline3_l1.predict(test.data)\n",
    "\n",
    "\n",
    "cm = confusion_matrix(test.target, logreg_l1_predicted)\n",
    "accuracy = accuracy_score(test.target, logreg_l1_predicted)\n",
    "precision = precision_score(test.target, logreg_l1_predicted, pos_label = 1)\n",
    "recall = recall_score(test.target, logreg_l1_predicted, pos_label = 1)\n",
    "print(\"Result for logreg_l1 /c=0.001\")\n",
    "print(\"confusion_matrix: \")\n",
    "print(cm)\n",
    "print(\"accuracy = %f, precision = %f, recall＝ %f\" %(accuracy, precision, recall))\n",
    "\n",
    "logreg_l1=LogisticRegression(penalty='l1',C=0.01,solver='liblinear')\n",
    "\n",
    "\n",
    "pipeline3_l1=Pipeline([('vect',CountVectorizer(min_df=2, stop_words='english')),('tfidf',TfidfTransformer()),\n",
    "                    ('svd',TruncatedSVD(n_components=50, n_iter=10,random_state=42)),('clf',logreg_l1),]) #change 2 to 5 for min_df=5\n",
    "\n",
    "logreg_l1_clf=pipeline3_l1.fit(train.data,train.target)\n",
    "logreg_l1_predicted_prob=pipeline3_l1.predict_proba(test.data)[:,1]\n",
    "logreg_l1_predicted=pipeline3_l1.predict(test.data)\n",
    "\n",
    "\n",
    "cm = confusion_matrix(test.target, logreg_l1_predicted)\n",
    "accuracy = accuracy_score(test.target, logreg_l1_predicted)\n",
    "precision = precision_score(test.target, logreg_l1_predicted, pos_label = 1)\n",
    "recall = recall_score(test.target, logreg_l1_predicted, pos_label = 1)\n",
    "print(\"Result for logreg_l1 /c=0.01\")\n",
    "print(\"confusion_matrix: \")\n",
    "print(cm)\n",
    "print(\"accuracy = %f, precision = %f, recall＝ %f\" %(accuracy, precision, recall))\n",
    "\n",
    "logreg_l1=LogisticRegression(penalty='l1',C=0.1,solver='liblinear')\n",
    "\n",
    "\n",
    "pipeline3_l1=Pipeline([('vect',CountVectorizer(min_df=2, stop_words='english')),('tfidf',TfidfTransformer()),\n",
    "                    ('svd',TruncatedSVD(n_components=50, n_iter=10,random_state=42)),('clf',logreg_l1),]) #change 2 to 5 for min_df=5\n",
    "\n",
    "logreg_l1_clf=pipeline3_l1.fit(train.data,train.target)\n",
    "logreg_l1_predicted_prob=pipeline3_l1.predict_proba(test.data)[:,1]\n",
    "logreg_l1_predicted=pipeline3_l1.predict(test.data)\n",
    "\n",
    "\n",
    "cm = confusion_matrix(test.target, logreg_l1_predicted)\n",
    "accuracy = accuracy_score(test.target, logreg_l1_predicted)\n",
    "precision = precision_score(test.target, logreg_l1_predicted, pos_label = 1)\n",
    "recall = recall_score(test.target, logreg_l1_predicted, pos_label = 1)\n",
    "print(\"Result for logreg_l1 /c=0.1\")\n",
    "print(\"confusion_matrix: \")\n",
    "print(cm)\n",
    "print(\"accuracy = %f, precision = %f, recall＝ %f\" %(accuracy, precision, recall))\n",
    "\n",
    "logreg_l1=LogisticRegression(penalty='l1',C=1,solver='liblinear')\n",
    "\n",
    "\n",
    "pipeline3_l1=Pipeline([('vect',CountVectorizer(min_df=2, stop_words='english')),('tfidf',TfidfTransformer()),\n",
    "                    ('svd',TruncatedSVD(n_components=50, n_iter=10,random_state=42)),('clf',logreg_l1),]) #change 2 to 5 for min_df=5\n",
    "\n",
    "logreg_l1_clf=pipeline3_l1.fit(train.data,train.target)\n",
    "logreg_l1_predicted_prob=pipeline3_l1.predict_proba(test.data)[:,1]\n",
    "logreg_l1_predicted=pipeline3_l1.predict(test.data)\n",
    "\n",
    "\n",
    "cm = confusion_matrix(test.target, logreg_l1_predicted)\n",
    "accuracy = accuracy_score(test.target, logreg_l1_predicted)\n",
    "precision = precision_score(test.target, logreg_l1_predicted, pos_label = 1)\n",
    "recall = recall_score(test.target, logreg_l1_predicted, pos_label = 1)\n",
    "print(\"Result for logreg_l1 /c=1\")\n",
    "print(\"confusion_matrix: \")\n",
    "print(cm)\n",
    "print(\"accuracy = %f, precision = %f, recall＝ %f\" %(accuracy, precision, recall))\n",
    "\n",
    "logreg_l1=LogisticRegression(penalty='l1',C=10,solver='liblinear')\n",
    "\n",
    "\n",
    "pipeline3_l1=Pipeline([('vect',CountVectorizer(min_df=2, stop_words='english')),('tfidf',TfidfTransformer()),\n",
    "                    ('svd',TruncatedSVD(n_components=50, n_iter=10,random_state=42)),('clf',logreg_l1),]) #change 2 to 5 for min_df=5\n",
    "\n",
    "logreg_l1_clf=pipeline3_l1.fit(train.data,train.target)\n",
    "logreg_l1_predicted_prob=pipeline3_l1.predict_proba(test.data)[:,1]\n",
    "logreg_l1_predicted=pipeline3_l1.predict(test.data)\n",
    "\n",
    "\n",
    "cm = confusion_matrix(test.target, logreg_l1_predicted)\n",
    "accuracy = accuracy_score(test.target, logreg_l1_predicted)\n",
    "precision = precision_score(test.target, logreg_l1_predicted, pos_label = 1)\n",
    "recall = recall_score(test.target, logreg_l1_predicted, pos_label = 1)\n",
    "print(\"Result for logreg_l1 /c=10\")\n",
    "print(\"confusion_matrix: \")\n",
    "print(cm)\n",
    "print(\"accuracy = %f, precision = %f, recall＝ %f\" %(accuracy, precision, recall))\n",
    "\n",
    "\n",
    "logreg_l1=LogisticRegression(penalty='l1',C=100,solver='liblinear')\n",
    "\n",
    "\n",
    "pipeline3_l1=Pipeline([('vect',CountVectorizer(min_df=2, stop_words='english')),('tfidf',TfidfTransformer()),\n",
    "                    ('svd',TruncatedSVD(n_components=50, n_iter=10,random_state=42)),('clf',logreg_l1),]) #change 2 to 5 for min_df=5\n",
    "\n",
    "logreg_l1_clf=pipeline3_l1.fit(train.data,train.target)\n",
    "logreg_l1_predicted_prob=pipeline3_l1.predict_proba(test.data)[:,1]\n",
    "logreg_l1_predicted=pipeline3_l1.predict(test.data)\n",
    "\n",
    "\n",
    "cm = confusion_matrix(test.target, logreg_l1_predicted)\n",
    "accuracy = accuracy_score(test.target, logreg_l1_predicted)\n",
    "precision = precision_score(test.target, logreg_l1_predicted, pos_label = 1)\n",
    "recall = recall_score(test.target, logreg_l1_predicted, pos_label = 1)\n",
    "print(\"Result for logreg_l1 /c=100\")\n",
    "print(\"confusion_matrix: \")\n",
    "print(cm)\n",
    "print(\"accuracy = %f, precision = %f, recall＝ %f\" %(accuracy, precision, recall))\n",
    "\n",
    "logreg_l1=LogisticRegression(penalty='l1',C=1000,solver='liblinear')\n",
    "\n",
    "\n",
    "pipeline3_l1=Pipeline([('vect',CountVectorizer(min_df=2, stop_words='english')),('tfidf',TfidfTransformer()),\n",
    "                    ('svd',TruncatedSVD(n_components=50, n_iter=10,random_state=42)),('clf',logreg_l1),]) #change 2 to 5 for min_df=5\n",
    "\n",
    "logreg_l1_clf=pipeline3_l1.fit(train.data,train.target)\n",
    "logreg_l1_predicted_prob=pipeline3_l1.predict_proba(test.data)[:,1]\n",
    "logreg_l1_predicted=pipeline3_l1.predict(test.data)\n",
    "\n",
    "\n",
    "cm = confusion_matrix(test.target, logreg_l1_predicted)\n",
    "accuracy = accuracy_score(test.target, logreg_l1_predicted)\n",
    "precision = precision_score(test.target, logreg_l1_predicted, pos_label = 1)\n",
    "recall = recall_score(test.target, logreg_l1_predicted, pos_label = 1)\n",
    "print(\"Result for logreg_l1 /c=1000\")\n",
    "print(\"confusion_matrix: \")\n",
    "print(cm)\n",
    "print(\"accuracy = %f, precision = %f, recall＝ %f\" %(accuracy, precision, recall))"
   ]
  },
  {
   "cell_type": "code",
   "execution_count": 56,
   "metadata": {},
   "outputs": [
    {
     "name": "stdout",
     "output_type": "stream",
     "text": [
      " \n",
      "Result for l2 /c = 0.001\n",
      "confusion_matrix: \n",
      "[[ 604  956]\n",
      " [   0 1590]]\n",
      "accuracy = 0.696508, precision = 0.624509, recall＝ 1.000000\n",
      " \n",
      "Result for l2 /c = 0.01\n",
      "confusion_matrix: \n",
      "[[1393  167]\n",
      " [  10 1580]]\n",
      "accuracy = 0.943810, precision = 0.904408, recall＝ 0.993711\n",
      " \n",
      "Result for l2 /c = 0.1\n",
      "confusion_matrix: \n",
      "[[1482   78]\n",
      " [  34 1556]]\n",
      "accuracy = 0.964444, precision = 0.952264, recall＝ 0.978616\n",
      " \n",
      "Result for l2 /c = 1\n",
      "confusion_matrix: \n",
      "[[1492   68]\n",
      " [  35 1555]]\n",
      "accuracy = 0.967302, precision = 0.958102, recall＝ 0.977987\n",
      " \n",
      "Result for l2 /c = 10\n",
      "confusion_matrix: \n",
      "[[1503   57]\n",
      " [  26 1564]]\n",
      "accuracy = 0.973651, precision = 0.964837, recall＝ 0.983648\n",
      " \n",
      "Result for l2 /c = 100\n",
      "confusion_matrix: \n",
      "[[1508   52]\n",
      " [  29 1561]]\n",
      "accuracy = 0.974286, precision = 0.967762, recall＝ 0.981761\n",
      " \n",
      "Result for l2 /c = 1000\n",
      "confusion_matrix: \n",
      "[[1511   49]\n",
      " [  31 1559]]\n",
      "accuracy = 0.974603, precision = 0.969527, recall＝ 0.980503\n"
     ]
    }
   ],
   "source": [
    "#test with differenct c value / L2\n",
    "\n",
    "from sklearn.linear_model import LogisticRegression\n",
    "from sklearn.decomposition import TruncatedSVD\n",
    "\n",
    "\n",
    "logreg_l2=LogisticRegression(penalty='l2',C=0.001,solver='liblinear')\n",
    "\n",
    "\n",
    "pipeline3_l2=Pipeline([('vect',CountVectorizer(min_df=2, stop_words='english')),('tfidf',TfidfTransformer()),\n",
    "                    ('svd',TruncatedSVD(n_components=50, n_iter=10,random_state=42)),('clf',logreg_l2),])\n",
    "\n",
    "logreg_l2_clf=pipeline3_l2.fit(train.data,train.target)\n",
    "logreg_l2_predicted_prob=pipeline3_l2.predict_proba(test.data)[:,1]\n",
    "logreg_l2_predicted=pipeline3_l2.predict(test.data)\n",
    "\n",
    "\n",
    "cm = confusion_matrix(test.target, logreg_l2_predicted)\n",
    "accuracy = accuracy_score(test.target, logreg_l2_predicted)\n",
    "precision = precision_score(test.target, logreg_l2_predicted, pos_label = 1)\n",
    "recall = recall_score(test.target, logreg_l2_predicted, pos_label = 1)\n",
    "print\" \"\n",
    "print(\"Result for l2 /c = 0.001\")\n",
    "print(\"confusion_matrix: \")\n",
    "print(cm)\n",
    "print(\"accuracy = %f, precision = %f, recall＝ %f\" %(accuracy, precision, recall))\n",
    "##############################################\n",
    "logreg_l2=LogisticRegression(penalty='l2',C=0.01,solver='liblinear')\n",
    "\n",
    "pipeline3_l2=Pipeline([('vect',CountVectorizer(min_df=2, stop_words='english')),('tfidf',TfidfTransformer()),\n",
    "                    ('svd',TruncatedSVD(n_components=50, n_iter=10,random_state=42)),('clf',logreg_l2),])\n",
    "\n",
    "logreg_l2_clf=pipeline3_l2.fit(train.data,train.target)\n",
    "logreg_l2_predicted_prob=pipeline3_l2.predict_proba(test.data)[:,1]\n",
    "logreg_l2_predicted=pipeline3_l2.predict(test.data)\n",
    "\n",
    "\n",
    "cm = confusion_matrix(test.target, logreg_l2_predicted)\n",
    "accuracy = accuracy_score(test.target, logreg_l2_predicted)\n",
    "precision = precision_score(test.target, logreg_l2_predicted, pos_label = 1)\n",
    "recall = recall_score(test.target, logreg_l2_predicted, pos_label = 1)\n",
    "print\" \"\n",
    "print(\"Result for l2 /c = 0.01\")\n",
    "print(\"confusion_matrix: \")\n",
    "print(cm)\n",
    "print(\"accuracy = %f, precision = %f, recall＝ %f\" %(accuracy, precision, recall))\n",
    "\n",
    "##############################################\n",
    "logreg_l2=LogisticRegression(penalty='l2',C=0.1,solver='liblinear')\n",
    "\n",
    "\n",
    "pipeline3_l2=Pipeline([('vect',CountVectorizer(min_df=2, stop_words='english')),('tfidf',TfidfTransformer()),\n",
    "                    ('svd',TruncatedSVD(n_components=50, n_iter=10,random_state=42)),('clf',logreg_l2),])\n",
    "\n",
    "logreg_l2_clf=pipeline3_l2.fit(train.data,train.target)\n",
    "logreg_l2_predicted_prob=pipeline3_l2.predict_proba(test.data)[:,1]\n",
    "logreg_l2_predicted=pipeline3_l2.predict(test.data)\n",
    "\n",
    "\n",
    "cm = confusion_matrix(test.target, logreg_l2_predicted)\n",
    "accuracy = accuracy_score(test.target, logreg_l2_predicted)\n",
    "precision = precision_score(test.target, logreg_l2_predicted, pos_label = 1)\n",
    "recall = recall_score(test.target, logreg_l2_predicted, pos_label = 1)\n",
    "print\" \"\n",
    "print(\"Result for l2 /c = 0.1\")\n",
    "print(\"confusion_matrix: \")\n",
    "print(cm)\n",
    "print(\"accuracy = %f, precision = %f, recall＝ %f\" %(accuracy, precision, recall))\n",
    "##############################################\n",
    "\n",
    "\n",
    "logreg_l2=LogisticRegression(penalty='l2',C=1,solver='liblinear')\n",
    "\n",
    "\n",
    "pipeline3_l2=Pipeline([('vect',CountVectorizer(min_df=2, stop_words='english')),('tfidf',TfidfTransformer()),\n",
    "                    ('svd',TruncatedSVD(n_components=50, n_iter=10,random_state=42)),('clf',logreg_l2),])\n",
    "\n",
    "logreg_l2_clf=pipeline3_l2.fit(train.data,train.target)\n",
    "logreg_l2_predicted_prob=pipeline3_l2.predict_proba(test.data)[:,1]\n",
    "logreg_l2_predicted=pipeline3_l2.predict(test.data)\n",
    "\n",
    "\n",
    "cm = confusion_matrix(test.target, logreg_l2_predicted)\n",
    "accuracy = accuracy_score(test.target, logreg_l2_predicted)\n",
    "precision = precision_score(test.target, logreg_l2_predicted, pos_label = 1)\n",
    "recall = recall_score(test.target, logreg_l2_predicted, pos_label = 1)\n",
    "print\" \"\n",
    "print(\"Result for l2 /c = 1\")\n",
    "print(\"confusion_matrix: \")\n",
    "print(cm)\n",
    "print(\"accuracy = %f, precision = %f, recall＝ %f\" %(accuracy, precision, recall))\n",
    "##############################################\n",
    "logreg_l2=LogisticRegression(penalty='l2',C=10,solver='liblinear')\n",
    "\n",
    "pipeline3_l2=Pipeline([('vect',CountVectorizer(min_df=2, stop_words='english')),('tfidf',TfidfTransformer()),\n",
    "                    ('svd',TruncatedSVD(n_components=50, n_iter=10,random_state=42)),('clf',logreg_l2),])\n",
    "\n",
    "logreg_l2_clf=pipeline3_l2.fit(train.data,train.target)\n",
    "logreg_l2_predicted_prob=pipeline3_l2.predict_proba(test.data)[:,1]\n",
    "logreg_l2_predicted=pipeline3_l2.predict(test.data)\n",
    "\n",
    "\n",
    "cm = confusion_matrix(test.target, logreg_l2_predicted)\n",
    "accuracy = accuracy_score(test.target, logreg_l2_predicted)\n",
    "precision = precision_score(test.target, logreg_l2_predicted, pos_label = 1)\n",
    "recall = recall_score(test.target, logreg_l2_predicted, pos_label = 1)\n",
    "print\" \"\n",
    "print(\"Result for l2 /c = 10\")\n",
    "print(\"confusion_matrix: \")\n",
    "print(cm)\n",
    "print(\"accuracy = %f, precision = %f, recall＝ %f\" %(accuracy, precision, recall))\n",
    "##############################################\n",
    "logreg_l2=LogisticRegression(penalty='l2',C=100,solver='liblinear')\n",
    "pipeline3_l2=Pipeline([('vect',CountVectorizer(min_df=2, stop_words='english')),('tfidf',TfidfTransformer()),\n",
    "                    ('svd',TruncatedSVD(n_components=50, n_iter=10,random_state=42)),('clf',logreg_l2),])\n",
    "\n",
    "logreg_l2_clf=pipeline3_l2.fit(train.data,train.target)\n",
    "logreg_l2_predicted_prob=pipeline3_l2.predict_proba(test.data)[:,1]\n",
    "logreg_l2_predicted=pipeline3_l2.predict(test.data)\n",
    "\n",
    "\n",
    "cm = confusion_matrix(test.target, logreg_l2_predicted)\n",
    "accuracy = accuracy_score(test.target, logreg_l2_predicted)\n",
    "precision = precision_score(test.target, logreg_l2_predicted, pos_label = 1)\n",
    "recall = recall_score(test.target, logreg_l2_predicted, pos_label = 1)\n",
    "print\" \"\n",
    "print(\"Result for l2 /c = 100\")\n",
    "print(\"confusion_matrix: \")\n",
    "print(cm)\n",
    "print(\"accuracy = %f, precision = %f, recall＝ %f\" %(accuracy, precision, recall))\n",
    "##############################################\n",
    "logreg_l2=LogisticRegression(penalty='l2',C=1000,solver='liblinear')\n",
    "\n",
    "\n",
    "pipeline3_l2=Pipeline([('vect',CountVectorizer(min_df=2, stop_words='english')),('tfidf',TfidfTransformer()),\n",
    "                    ('svd',TruncatedSVD(n_components=50, n_iter=10,random_state=42)),('clf',logreg_l2),])\n",
    "\n",
    "logreg_l2_clf=pipeline3_l2.fit(train.data,train.target)\n",
    "logreg_l2_predicted_prob=pipeline3_l2.predict_proba(test.data)[:,1]\n",
    "logreg_l2_predicted=pipeline3_l2.predict(test.data)\n",
    "\n",
    "\n",
    "cm = confusion_matrix(test.target, logreg_l2_predicted)\n",
    "accuracy = accuracy_score(test.target, logreg_l2_predicted)\n",
    "precision = precision_score(test.target, logreg_l2_predicted, pos_label = 1)\n",
    "recall = recall_score(test.target, logreg_l2_predicted, pos_label = 1)\n",
    "print\" \"\n",
    "print(\"Result for l2 /c = 1000\")\n",
    "print(\"confusion_matrix: \")\n",
    "print(cm)\n",
    "print(\"accuracy = %f, precision = %f, recall＝ %f\" %(accuracy, precision, recall))\n",
    "##############################################\n",
    "\n",
    "\n"
   ]
  },
  {
   "cell_type": "markdown",
   "metadata": {},
   "source": [
    "# Question i2"
   ]
  },
  {
   "cell_type": "code",
   "execution_count": 64,
   "metadata": {
    "collapsed": true
   },
   "outputs": [],
   "source": [
    "\n",
    "categories = ['comp.sys.ibm.pc.hardware', 'comp.sys.mac.hardware', 'misc.forsale', 'soc.religion.christian']\n",
    "train = fetch_20newsgroups(subset='train', categories=categories, shuffle=True, random_state=42)\n",
    "test = fetch_20newsgroups(subset='test', categories=categories, shuffle=True, random_state=42)\n",
    "\n",
    "        \n",
    "stopwords = text.ENGLISH_STOP_WORDS\n",
    "stemmer = SnowballStemmer(\"english\")\n",
    "EXTRA = '[! \\\" # $ % \\& \\' \\( \\) \\* + , \\- \\. \\/ : ; < = > ? @ \\[ \\\\ \\] ^ _ ` { \\| } ~]'\n",
    "\n",
    "# replace the \\r \\n \\t as space for excluding them\n",
    "train.data = [s.replace('\\r',' ').replace('\\n',' ').replace('\\t',' ') for s in train.data]\n",
    "\n",
    "# exclude the punctuations\n",
    "for punctuation in EXTRA:\n",
    "    train.data = [s.replace(punctuation, ' ') for s in train.data]\n",
    "\n",
    "# stemming\n",
    "train.data = [' '.join([stemmer.stem(word) for word in sentence.split(' ')]) for sentence in train.data]\n",
    "\n",
    "###########################\n",
    "# replace the \\r \\n \\t as space for excluding them\n",
    "test.data = [s.replace('\\r',' ').replace('\\n',' ').replace('\\t',' ') for s in test.data]\n",
    "\n",
    "# exclude the punctuations\n",
    "for punctuation in EXTRA:\n",
    "    test.data = [s.replace(punctuation, ' ') for s in test.data]\n",
    "\n",
    "# stemming\n",
    "test.data = [' '.join([stemmer.stem(word) for word in sentence.split(' ')]) for sentence in test.data]\n"
   ]
  },
  {
   "cell_type": "code",
   "execution_count": 65,
   "metadata": {},
   "outputs": [
    {
     "name": "stdout",
     "output_type": "stream",
     "text": [
      "Result for GaussianNB /NMF /min_df=2\n",
      "confusion_matrix: \n",
      "[[291  40  53   8]\n",
      " [ 76 245  61   3]\n",
      " [ 53  23 301  13]\n",
      " [  2   3   0 393]]\n",
      "accuracy = 0.785942, precision = 0.786945, recall＝ 0.785942\n"
     ]
    }
   ],
   "source": [
    "#Multiclass NMF only\n",
    "from sklearn.naive_bayes import GaussianNB\n",
    "\n",
    "gnb=GaussianNB()\n",
    "pipe0=Pipeline([('vect',CountVectorizer(min_df=2, stop_words='english')),('tfidf',TfidfTransformer()),\n",
    "                ('reduce_dim',NMF(n_components=50,init='random',random_state=0)),('clf',gnb),])\n",
    "gnb_clf=pipe0.fit(train.data,train.target)\n",
    "gnb_predicted_prob=pipe0.predict_proba(test.data)[:,1]\n",
    "gnb_predicted=pipe0.predict(test.data)\n",
    "\n",
    "cm = confusion_matrix(test.target, gnb_predicted)\n",
    "accuracy = accuracy_score(test.target, gnb_predicted)\n",
    "precision = precision_score(test.target, gnb_predicted, pos_label = 1,average='weighted')\n",
    "recall = recall_score(test.target, gnb_predicted, pos_label = 1,average='weighted')\n",
    "print(\"Result for GaussianNB /NMF /min_df=2\")\n",
    "print(\"confusion_matrix: \")\n",
    "print(cm)\n",
    "print(\"accuracy = %f, precision = %f, recall＝ %f\" %(accuracy, precision, recall))\n",
    "\n",
    "\n"
   ]
  },
  {
   "cell_type": "code",
   "execution_count": 66,
   "metadata": {},
   "outputs": [
    {
     "name": "stdout",
     "output_type": "stream",
     "text": [
      "Result for OnevsOne_LSI / min_df=2\n",
      "confusion_matrix: \n",
      "[[311  53  27   1]\n",
      " [ 41 318  26   0]\n",
      " [ 24  20 344   2]\n",
      " [  3   1   1 393]]\n",
      "accuracy = 0.872843, precision = 0.872881, recall＝ 0.872843\n"
     ]
    }
   ],
   "source": [
    "#lsi OnevsOne\n",
    "from sklearn.multiclass import OneVsOneClassifier\n",
    "from sklearn.svm import LinearSVC\n",
    "\n",
    "onevone=OneVsOneClassifier(LinearSVC(C=100,random_state=42))\n",
    "pipe=Pipeline([('vect',CountVectorizer(min_df=2, stop_words='english')),('tfidf',TfidfTransformer()),('svd',TruncatedSVD(n_components=50,n_iter=10,random_state=42)),('clf',onevone),])\n",
    "\n",
    "ovo_svc=pipe.fit(train.data,train.target)\n",
    "ovo_predicted=pipe.predict(test.data)\n",
    "\n",
    "cm = confusion_matrix(test.target, ovo_predicted)\n",
    "accuracy = accuracy_score(test.target, ovo_predicted)\n",
    "precision = precision_score(test.target, ovo_predicted, pos_label = 1,average='weighted')\n",
    "recall = recall_score(test.target, ovo_predicted, pos_label = 1,average='weighted')\n",
    "print(\"Result for OnevsOne_LSI / min_df=2\")\n",
    "print(\"confusion_matrix: \")\n",
    "print(cm)\n",
    "print(\"accuracy = %f, precision = %f, recall＝ %f\" %(accuracy, precision, recall))"
   ]
  },
  {
   "cell_type": "code",
   "execution_count": 67,
   "metadata": {},
   "outputs": [
    {
     "name": "stdout",
     "output_type": "stream",
     "text": [
      "Result for OnevsOne_NMF / min_df=2\n",
      "confusion_matrix: \n",
      "[[312  49  31   0]\n",
      " [ 57 297  28   3]\n",
      " [ 27  16 345   2]\n",
      " [  4   3   3 388]]\n",
      "accuracy = 0.857508, precision = 0.857866, recall＝ 0.857508\n"
     ]
    }
   ],
   "source": [
    "#NMF OnevsOne\n",
    "from sklearn.multiclass import OneVsOneClassifier\n",
    "from sklearn.svm import LinearSVC\n",
    "onevone=OneVsOneClassifier(LinearSVC(C=100,random_state=42))\n",
    "pipe=Pipeline([('vect',CountVectorizer(min_df=2, stop_words='english')),('tfidf',TfidfTransformer()),\n",
    "               ('reduce_dim',NMF(n_components=50,init='random',random_state=0)),('clf',onevone),])\n",
    "\n",
    "ovo_svc=pipe.fit(train.data,train.target)\n",
    "ovo_predicted=pipe.predict(test.data)\n",
    "\n",
    "cm = confusion_matrix(test.target, ovo_predicted)\n",
    "accuracy = accuracy_score(test.target, ovo_predicted)\n",
    "precision = precision_score(test.target, ovo_predicted, pos_label = 1,average='weighted')\n",
    "recall = recall_score(test.target, ovo_predicted, pos_label = 1,average='weighted')\n",
    "print(\"Result for OnevsOne_NMF / min_df=2\")\n",
    "print(\"confusion_matrix: \")\n",
    "print(cm)\n",
    "print(\"accuracy = %f, precision = %f, recall＝ %f\" %(accuracy, precision, recall))"
   ]
  },
  {
   "cell_type": "code",
   "execution_count": 68,
   "metadata": {},
   "outputs": [
    {
     "name": "stdout",
     "output_type": "stream",
     "text": [
      "Result for OnevsRest_LSI / min_df=2\n",
      "confusion_matrix: \n",
      "[[310  61  21   0]\n",
      " [ 30 331  24   0]\n",
      " [ 21  18 349   2]\n",
      " [  4   1   1 392]]\n",
      "accuracy = 0.883067, precision = 0.884060, recall＝ 0.883067\n"
     ]
    }
   ],
   "source": [
    "#LSI OnevsRest\n",
    "\n",
    "from sklearn.multiclass import OneVsRestClassifier\n",
    "from sklearn.svm import LinearSVC\n",
    "onevR=OneVsRestClassifier(LinearSVC(C=100,random_state=42))\n",
    "pipe1=Pipeline([('vect',CountVectorizer(min_df=2, stop_words='english')),('tfidf',TfidfTransformer()),\n",
    "                ('svd',TruncatedSVD(n_components=50,n_iter=10,random_state=42)),('clf',onevR),])\n",
    "\n",
    "ovR_svc=pipe1.fit(train.data,train.target)\n",
    "ovR_predicted=pipe1.predict(test.data)\n",
    "\n",
    "cm = confusion_matrix(test.target, ovR_predicted)\n",
    "accuracy = accuracy_score(test.target, ovR_predicted)\n",
    "precision = precision_score(test.target, ovR_predicted, pos_label = 1,average='weighted')\n",
    "recall = recall_score(test.target, ovR_predicted, pos_label = 1,average='weighted')\n",
    "print(\"Result for OnevsRest_LSI / min_df=2\")\n",
    "print(\"confusion_matrix: \")\n",
    "print(cm)\n",
    "print(\"accuracy = %f, precision = %f, recall＝ %f\" %(accuracy, precision, recall))"
   ]
  },
  {
   "cell_type": "code",
   "execution_count": 69,
   "metadata": {},
   "outputs": [
    {
     "name": "stdout",
     "output_type": "stream",
     "text": [
      "Result for OnevsRest_NMF / min_df=2\n",
      "confusion_matrix: \n",
      "[[310  50  30   2]\n",
      " [ 48 306  27   4]\n",
      " [ 27  17 345   1]\n",
      " [  3   1   3 391]]\n",
      "accuracy = 0.863898, precision = 0.863526, recall＝ 0.863898\n"
     ]
    }
   ],
   "source": [
    "#NMF OnevsRest\n",
    "from sklearn.multiclass import OneVsRestClassifier\n",
    "from sklearn.svm import LinearSVC\n",
    "onevR=OneVsRestClassifier(LinearSVC(C=100,random_state=42))\n",
    "pipe1=Pipeline([('vect',CountVectorizer(min_df=2, stop_words='english')),('tfidf',TfidfTransformer()),\n",
    "                ('reduce_dim',NMF(n_components=50,init='random',random_state=0)),('clf',onevR),])\n",
    "\n",
    "ovR_svc=pipe1.fit(train.data,train.target)\n",
    "ovR_predicted=pipe1.predict(test.data)\n",
    "\n",
    "cm = confusion_matrix(test.target, ovR_predicted)\n",
    "accuracy = accuracy_score(test.target, ovR_predicted)\n",
    "precision = precision_score(test.target, ovR_predicted, pos_label = 1,average='weighted')\n",
    "recall = recall_score(test.target, ovR_predicted, pos_label = 1,average='weighted')\n",
    "print(\"Result for OnevsRest_NMF / min_df=2\")\n",
    "print(\"confusion_matrix: \")\n",
    "print(cm)\n",
    "print(\"accuracy = %f, precision = %f, recall＝ %f\" %(accuracy, precision, recall))"
   ]
  },
  {
   "cell_type": "code",
   "execution_count": null,
   "metadata": {
    "collapsed": true
   },
   "outputs": [],
   "source": []
  }
 ],
 "metadata": {
  "kernelspec": {
   "display_name": "Python 2",
   "language": "python",
   "name": "python2"
  },
  "language_info": {
   "codemirror_mode": {
    "name": "ipython",
    "version": 2
   },
   "file_extension": ".py",
   "mimetype": "text/x-python",
   "name": "python",
   "nbconvert_exporter": "python",
   "pygments_lexer": "ipython2",
   "version": "2.7.14"
  }
 },
 "nbformat": 4,
 "nbformat_minor": 2
}
